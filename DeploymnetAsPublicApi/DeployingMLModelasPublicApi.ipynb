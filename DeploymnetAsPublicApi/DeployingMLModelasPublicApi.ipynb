{
  "nbformat": 4,
  "nbformat_minor": 0,
  "metadata": {
    "colab": {
      "provenance": []
    },
    "kernelspec": {
      "name": "python3",
      "display_name": "Python 3"
    },
    "language_info": {
      "name": "python"
    }
  },
  "cells": [
    {
      "cell_type": "code",
      "execution_count": null,
      "metadata": {
        "id": "rpD_0FHI2k16"
      },
      "outputs": [],
      "source": [
        "!pip install fastapi\n",
        "!pip install uvicorn\n",
        "!pip install pickle5\n",
        "!pip install pydantic\n",
        "!pip install scikit-learn\n",
        "!pip install requests\n",
        "!pip install pypi-json\n",
        "!pip install pyngrok\n",
        "!pip install nest-asyncio"
      ]
    },
    {
      "cell_type": "code",
      "source": [
        "from fastapi import FastAPI\n",
        "from pydantic import BaseModel\n",
        "import pickle\n",
        "import json\n",
        "import uvicorn\n",
        "from pyngrok import ngrok\n",
        "from fastapi.middleware.cors import CORSMiddleware\n",
        "import nest_asyncio"
      ],
      "metadata": {
        "id": "q15_gAJp3lj9"
      },
      "execution_count": 9,
      "outputs": []
    },
    {
      "cell_type": "code",
      "source": [
        "app = FastAPI()"
      ],
      "metadata": {
        "id": "V_kVBS2c4bDN"
      },
      "execution_count": 3,
      "outputs": []
    },
    {
      "cell_type": "code",
      "source": [
        "origins = [\"*\"]\n",
        "\n",
        "app.add_middleware(\n",
        "    CORSMiddleware,\n",
        "    allow_origins = origins,\n",
        "    allow_credentials = True,\n",
        "    allow_methods=[\"*\"],\n",
        "    allow_headers=[\"*\"],\n",
        ")"
      ],
      "metadata": {
        "id": "EmMP1ftM40Gk"
      },
      "execution_count": 4,
      "outputs": []
    },
    {
      "cell_type": "code",
      "source": [
        "class model_input(BaseModel):\n",
        "    \n",
        "    Pregnancies  : int\n",
        "    Glucose : int\n",
        "    BloodPressure  :int\n",
        "    SkinThickness : int\n",
        "    Insulin : int\n",
        "    BMI :float\n",
        "    DiabetesPedigreeFunction :float\n",
        "    Age :int"
      ],
      "metadata": {
        "id": "ThLqw1J75T7q"
      },
      "execution_count": 5,
      "outputs": []
    },
    {
      "cell_type": "code",
      "source": [
        "#loading the saved model\n",
        "diabetes_model = pickle.load(open('Diabetes.sav','rb'))"
      ],
      "metadata": {
        "id": "KnPeS3Gw64Md"
      },
      "execution_count": 7,
      "outputs": []
    },
    {
      "cell_type": "code",
      "source": [
        "@app.post('/diabetes_prediction')\n",
        " \n",
        "def diabetes_pred(input_parameters : model_input):\n",
        "     \n",
        "     input_data = input_parameters.json()\n",
        "     input_dictionary = json.loads(input_data)\n",
        "     \n",
        "     preg = input_dictionary['Pregnancies']\n",
        "     glu = input_dictionary['Glucose']\n",
        "     bp = input_dictionary['BloodPressure']\n",
        "     st = input_dictionary['SkinThickness']\n",
        "     ins = input_dictionary['Insulin']\n",
        "     bmi = input_dictionary['BMI']\n",
        "     dbf = input_dictionary['DiabetesPedigreeFunction']\n",
        "     age = input_dictionary['Age']\n",
        "     \n",
        "     input_list = [preg,glu,bp,st,ins,bmi,dbf,age]     \n",
        "     \n",
        "     prediction = diabetes_model.predict([input_list])\n",
        "     if(prediction==0):\n",
        "         return 'The person is non-diabetic'\n",
        "     else:\n",
        "         return 'The person is diabetic'"
      ],
      "metadata": {
        "id": "XQsOZyno7tZx"
      },
      "execution_count": 8,
      "outputs": []
    },
    {
      "cell_type": "code",
      "source": [
        "ngrok_tunnel = ngrok.connect(8000)\n",
        "print('Public URL:',ngrok_tunnel.public_url)\n",
        "nest_asyncio.apply()\n",
        "uvicorn.run(app,port=8000)"
      ],
      "metadata": {
        "colab": {
          "base_uri": "https://localhost:8080/"
        },
        "id": "1X5M0d9f75Ta",
        "outputId": "46bf386e-13c9-469e-ca7e-44da7c355fc0"
      },
      "execution_count": 10,
      "outputs": [
        {
          "output_type": "stream",
          "name": "stdout",
          "text": []
        },
        {
          "output_type": "stream",
          "name": "stderr",
          "text": [
            "INFO:     Started server process [58]\n",
            "INFO:uvicorn.error:Started server process [58]\n",
            "INFO:     Waiting for application startup.\n",
            "INFO:uvicorn.error:Waiting for application startup.\n",
            "INFO:     Application startup complete.\n",
            "INFO:uvicorn.error:Application startup complete.\n",
            "INFO:     Uvicorn running on http://127.0.0.1:8000 (Press CTRL+C to quit)\n",
            "INFO:uvicorn.error:Uvicorn running on http://127.0.0.1:8000 (Press CTRL+C to quit)\n"
          ]
        },
        {
          "output_type": "stream",
          "name": "stdout",
          "text": [
            "Public URL: http://cbec-35-188-106-104.ngrok.io\n",
            "INFO:     104.28.221.93:0 - \"POST /diabetes_prediction HTTP/1.1\" 200 OK\n"
          ]
        },
        {
          "output_type": "stream",
          "name": "stderr",
          "text": [
            "/usr/local/lib/python3.7/dist-packages/sklearn/base.py:451: UserWarning: X does not have valid feature names, but SVC was fitted with feature names\n",
            "  \"X does not have valid feature names, but\"\n"
          ]
        },
        {
          "output_type": "stream",
          "name": "stdout",
          "text": [
            "INFO:     104.28.221.93:0 - \"GET / HTTP/1.1\" 404 Not Found\n",
            "INFO:     104.28.221.93:0 - \"GET /favicon.ico HTTP/1.1\" 404 Not Found\n",
            "INFO:     104.28.221.93:0 - \"GET /diabetes_prediction HTTP/1.1\" 405 Method Not Allowed\n",
            "INFO:     104.28.221.93:0 - \"GET /favicon.ico HTTP/1.1\" 404 Not Found\n",
            "INFO:     104.28.221.93:0 - \"GET /diabetes_prediction HTTP/1.1\" 405 Method Not Allowed\n"
          ]
        },
        {
          "output_type": "stream",
          "name": "stderr",
          "text": [
            "INFO:     Shutting down\n",
            "INFO:uvicorn.error:Shutting down\n",
            "INFO:     Waiting for application shutdown.\n",
            "INFO:uvicorn.error:Waiting for application shutdown.\n",
            "INFO:     Application shutdown complete.\n",
            "INFO:uvicorn.error:Application shutdown complete.\n",
            "INFO:     Finished server process [58]\n",
            "INFO:uvicorn.error:Finished server process [58]\n"
          ]
        }
      ]
    },
    {
      "cell_type": "code",
      "source": [],
      "metadata": {
        "id": "IgpkC9Tq9nQv"
      },
      "execution_count": null,
      "outputs": []
    }
  ]
}