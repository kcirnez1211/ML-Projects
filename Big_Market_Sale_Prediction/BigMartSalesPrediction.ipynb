{
  "nbformat": 4,
  "nbformat_minor": 0,
  "metadata": {
    "colab": {
      "name": "BigMartSalesPrediction.ipynb",
      "provenance": [],
      "collapsed_sections": []
    },
    "kernelspec": {
      "name": "python3",
      "display_name": "Python 3"
    },
    "language_info": {
      "name": "python"
    }
  },
  "cells": [
    {
      "cell_type": "code",
      "execution_count": 66,
      "metadata": {
        "id": "2biPwWT6gITz"
      },
      "outputs": [],
      "source": [
        "import numpy as np\n",
        "import pandas as pd\n",
        "import matplotlib.pyplot as plt\n",
        "import seaborn as sns\n",
        "from sklearn.preprocessing import LabelEncoder\n",
        "from sklearn.model_selection import train_test_split\n",
        "from sklearn import metrics\n",
        "from xgboost import XGBRegressor"
      ]
    },
    {
      "cell_type": "code",
      "source": [
        "#loading data into panda dataframe\n",
        "sale_data = pd.read_csv('/content/Train.csv')"
      ],
      "metadata": {
        "id": "TUXgEKL3rrH2"
      },
      "execution_count": 67,
      "outputs": []
    },
    {
      "cell_type": "code",
      "source": [
        "sale_data.shape"
      ],
      "metadata": {
        "colab": {
          "base_uri": "https://localhost:8080/"
        },
        "id": "FwurwU3hr1M5",
        "outputId": "e92b5c65-8d17-49b0-89f4-d9a7aee0f729"
      },
      "execution_count": 68,
      "outputs": [
        {
          "output_type": "execute_result",
          "data": {
            "text/plain": [
              "(8523, 12)"
            ]
          },
          "metadata": {},
          "execution_count": 68
        }
      ]
    },
    {
      "cell_type": "code",
      "source": [
        "sale_data.head()"
      ],
      "metadata": {
        "colab": {
          "base_uri": "https://localhost:8080/",
          "height": 357
        },
        "id": "GsVIEYHer3or",
        "outputId": "d8d8a110-9f45-4bd5-cee8-77b8043b0bc6"
      },
      "execution_count": 69,
      "outputs": [
        {
          "output_type": "execute_result",
          "data": {
            "text/plain": [
              "  Item_Identifier  Item_Weight Item_Fat_Content  Item_Visibility  \\\n",
              "0           FDA15         9.30          Low Fat         0.016047   \n",
              "1           DRC01         5.92          Regular         0.019278   \n",
              "2           FDN15        17.50          Low Fat         0.016760   \n",
              "3           FDX07        19.20          Regular         0.000000   \n",
              "4           NCD19         8.93          Low Fat         0.000000   \n",
              "\n",
              "               Item_Type  Item_MRP Outlet_Identifier  \\\n",
              "0                  Dairy  249.8092            OUT049   \n",
              "1            Soft Drinks   48.2692            OUT018   \n",
              "2                   Meat  141.6180            OUT049   \n",
              "3  Fruits and Vegetables  182.0950            OUT010   \n",
              "4              Household   53.8614            OUT013   \n",
              "\n",
              "   Outlet_Establishment_Year Outlet_Size Outlet_Location_Type  \\\n",
              "0                       1999      Medium               Tier 1   \n",
              "1                       2009      Medium               Tier 3   \n",
              "2                       1999      Medium               Tier 1   \n",
              "3                       1998         NaN               Tier 3   \n",
              "4                       1987        High               Tier 3   \n",
              "\n",
              "         Outlet_Type  Item_Outlet_Sales  \n",
              "0  Supermarket Type1          3735.1380  \n",
              "1  Supermarket Type2           443.4228  \n",
              "2  Supermarket Type1          2097.2700  \n",
              "3      Grocery Store           732.3800  \n",
              "4  Supermarket Type1           994.7052  "
            ],
            "text/html": [
              "\n",
              "  <div id=\"df-e13de5fb-4e95-47e7-9dc9-582e4bb06def\">\n",
              "    <div class=\"colab-df-container\">\n",
              "      <div>\n",
              "<style scoped>\n",
              "    .dataframe tbody tr th:only-of-type {\n",
              "        vertical-align: middle;\n",
              "    }\n",
              "\n",
              "    .dataframe tbody tr th {\n",
              "        vertical-align: top;\n",
              "    }\n",
              "\n",
              "    .dataframe thead th {\n",
              "        text-align: right;\n",
              "    }\n",
              "</style>\n",
              "<table border=\"1\" class=\"dataframe\">\n",
              "  <thead>\n",
              "    <tr style=\"text-align: right;\">\n",
              "      <th></th>\n",
              "      <th>Item_Identifier</th>\n",
              "      <th>Item_Weight</th>\n",
              "      <th>Item_Fat_Content</th>\n",
              "      <th>Item_Visibility</th>\n",
              "      <th>Item_Type</th>\n",
              "      <th>Item_MRP</th>\n",
              "      <th>Outlet_Identifier</th>\n",
              "      <th>Outlet_Establishment_Year</th>\n",
              "      <th>Outlet_Size</th>\n",
              "      <th>Outlet_Location_Type</th>\n",
              "      <th>Outlet_Type</th>\n",
              "      <th>Item_Outlet_Sales</th>\n",
              "    </tr>\n",
              "  </thead>\n",
              "  <tbody>\n",
              "    <tr>\n",
              "      <th>0</th>\n",
              "      <td>FDA15</td>\n",
              "      <td>9.30</td>\n",
              "      <td>Low Fat</td>\n",
              "      <td>0.016047</td>\n",
              "      <td>Dairy</td>\n",
              "      <td>249.8092</td>\n",
              "      <td>OUT049</td>\n",
              "      <td>1999</td>\n",
              "      <td>Medium</td>\n",
              "      <td>Tier 1</td>\n",
              "      <td>Supermarket Type1</td>\n",
              "      <td>3735.1380</td>\n",
              "    </tr>\n",
              "    <tr>\n",
              "      <th>1</th>\n",
              "      <td>DRC01</td>\n",
              "      <td>5.92</td>\n",
              "      <td>Regular</td>\n",
              "      <td>0.019278</td>\n",
              "      <td>Soft Drinks</td>\n",
              "      <td>48.2692</td>\n",
              "      <td>OUT018</td>\n",
              "      <td>2009</td>\n",
              "      <td>Medium</td>\n",
              "      <td>Tier 3</td>\n",
              "      <td>Supermarket Type2</td>\n",
              "      <td>443.4228</td>\n",
              "    </tr>\n",
              "    <tr>\n",
              "      <th>2</th>\n",
              "      <td>FDN15</td>\n",
              "      <td>17.50</td>\n",
              "      <td>Low Fat</td>\n",
              "      <td>0.016760</td>\n",
              "      <td>Meat</td>\n",
              "      <td>141.6180</td>\n",
              "      <td>OUT049</td>\n",
              "      <td>1999</td>\n",
              "      <td>Medium</td>\n",
              "      <td>Tier 1</td>\n",
              "      <td>Supermarket Type1</td>\n",
              "      <td>2097.2700</td>\n",
              "    </tr>\n",
              "    <tr>\n",
              "      <th>3</th>\n",
              "      <td>FDX07</td>\n",
              "      <td>19.20</td>\n",
              "      <td>Regular</td>\n",
              "      <td>0.000000</td>\n",
              "      <td>Fruits and Vegetables</td>\n",
              "      <td>182.0950</td>\n",
              "      <td>OUT010</td>\n",
              "      <td>1998</td>\n",
              "      <td>NaN</td>\n",
              "      <td>Tier 3</td>\n",
              "      <td>Grocery Store</td>\n",
              "      <td>732.3800</td>\n",
              "    </tr>\n",
              "    <tr>\n",
              "      <th>4</th>\n",
              "      <td>NCD19</td>\n",
              "      <td>8.93</td>\n",
              "      <td>Low Fat</td>\n",
              "      <td>0.000000</td>\n",
              "      <td>Household</td>\n",
              "      <td>53.8614</td>\n",
              "      <td>OUT013</td>\n",
              "      <td>1987</td>\n",
              "      <td>High</td>\n",
              "      <td>Tier 3</td>\n",
              "      <td>Supermarket Type1</td>\n",
              "      <td>994.7052</td>\n",
              "    </tr>\n",
              "  </tbody>\n",
              "</table>\n",
              "</div>\n",
              "      <button class=\"colab-df-convert\" onclick=\"convertToInteractive('df-e13de5fb-4e95-47e7-9dc9-582e4bb06def')\"\n",
              "              title=\"Convert this dataframe to an interactive table.\"\n",
              "              style=\"display:none;\">\n",
              "        \n",
              "  <svg xmlns=\"http://www.w3.org/2000/svg\" height=\"24px\"viewBox=\"0 0 24 24\"\n",
              "       width=\"24px\">\n",
              "    <path d=\"M0 0h24v24H0V0z\" fill=\"none\"/>\n",
              "    <path d=\"M18.56 5.44l.94 2.06.94-2.06 2.06-.94-2.06-.94-.94-2.06-.94 2.06-2.06.94zm-11 1L8.5 8.5l.94-2.06 2.06-.94-2.06-.94L8.5 2.5l-.94 2.06-2.06.94zm10 10l.94 2.06.94-2.06 2.06-.94-2.06-.94-.94-2.06-.94 2.06-2.06.94z\"/><path d=\"M17.41 7.96l-1.37-1.37c-.4-.4-.92-.59-1.43-.59-.52 0-1.04.2-1.43.59L10.3 9.45l-7.72 7.72c-.78.78-.78 2.05 0 2.83L4 21.41c.39.39.9.59 1.41.59.51 0 1.02-.2 1.41-.59l7.78-7.78 2.81-2.81c.8-.78.8-2.07 0-2.86zM5.41 20L4 18.59l7.72-7.72 1.47 1.35L5.41 20z\"/>\n",
              "  </svg>\n",
              "      </button>\n",
              "      \n",
              "  <style>\n",
              "    .colab-df-container {\n",
              "      display:flex;\n",
              "      flex-wrap:wrap;\n",
              "      gap: 12px;\n",
              "    }\n",
              "\n",
              "    .colab-df-convert {\n",
              "      background-color: #E8F0FE;\n",
              "      border: none;\n",
              "      border-radius: 50%;\n",
              "      cursor: pointer;\n",
              "      display: none;\n",
              "      fill: #1967D2;\n",
              "      height: 32px;\n",
              "      padding: 0 0 0 0;\n",
              "      width: 32px;\n",
              "    }\n",
              "\n",
              "    .colab-df-convert:hover {\n",
              "      background-color: #E2EBFA;\n",
              "      box-shadow: 0px 1px 2px rgba(60, 64, 67, 0.3), 0px 1px 3px 1px rgba(60, 64, 67, 0.15);\n",
              "      fill: #174EA6;\n",
              "    }\n",
              "\n",
              "    [theme=dark] .colab-df-convert {\n",
              "      background-color: #3B4455;\n",
              "      fill: #D2E3FC;\n",
              "    }\n",
              "\n",
              "    [theme=dark] .colab-df-convert:hover {\n",
              "      background-color: #434B5C;\n",
              "      box-shadow: 0px 1px 3px 1px rgba(0, 0, 0, 0.15);\n",
              "      filter: drop-shadow(0px 1px 2px rgba(0, 0, 0, 0.3));\n",
              "      fill: #FFFFFF;\n",
              "    }\n",
              "  </style>\n",
              "\n",
              "      <script>\n",
              "        const buttonEl =\n",
              "          document.querySelector('#df-e13de5fb-4e95-47e7-9dc9-582e4bb06def button.colab-df-convert');\n",
              "        buttonEl.style.display =\n",
              "          google.colab.kernel.accessAllowed ? 'block' : 'none';\n",
              "\n",
              "        async function convertToInteractive(key) {\n",
              "          const element = document.querySelector('#df-e13de5fb-4e95-47e7-9dc9-582e4bb06def');\n",
              "          const dataTable =\n",
              "            await google.colab.kernel.invokeFunction('convertToInteractive',\n",
              "                                                     [key], {});\n",
              "          if (!dataTable) return;\n",
              "\n",
              "          const docLinkHtml = 'Like what you see? Visit the ' +\n",
              "            '<a target=\"_blank\" href=https://colab.research.google.com/notebooks/data_table.ipynb>data table notebook</a>'\n",
              "            + ' to learn more about interactive tables.';\n",
              "          element.innerHTML = '';\n",
              "          dataTable['output_type'] = 'display_data';\n",
              "          await google.colab.output.renderOutput(dataTable, element);\n",
              "          const docLink = document.createElement('div');\n",
              "          docLink.innerHTML = docLinkHtml;\n",
              "          element.appendChild(docLink);\n",
              "        }\n",
              "      </script>\n",
              "    </div>\n",
              "  </div>\n",
              "  "
            ]
          },
          "metadata": {},
          "execution_count": 69
        }
      ]
    },
    {
      "cell_type": "code",
      "source": [
        "sale_data.isnull().sum()"
      ],
      "metadata": {
        "colab": {
          "base_uri": "https://localhost:8080/"
        },
        "id": "YDOdfiHdr6ng",
        "outputId": "1ea95f8c-7551-469b-f051-adf8f39b511e"
      },
      "execution_count": 70,
      "outputs": [
        {
          "output_type": "execute_result",
          "data": {
            "text/plain": [
              "Item_Identifier                 0\n",
              "Item_Weight                  1463\n",
              "Item_Fat_Content                0\n",
              "Item_Visibility                 0\n",
              "Item_Type                       0\n",
              "Item_MRP                        0\n",
              "Outlet_Identifier               0\n",
              "Outlet_Establishment_Year       0\n",
              "Outlet_Size                  2410\n",
              "Outlet_Location_Type            0\n",
              "Outlet_Type                     0\n",
              "Item_Outlet_Sales               0\n",
              "dtype: int64"
            ]
          },
          "metadata": {},
          "execution_count": 70
        }
      ]
    },
    {
      "cell_type": "code",
      "source": [
        "sale_data.tail()"
      ],
      "metadata": {
        "colab": {
          "base_uri": "https://localhost:8080/",
          "height": 357
        },
        "id": "RITLCKbZsCMJ",
        "outputId": "1df02a9a-dfe6-497f-cfc7-269b5b3422fe"
      },
      "execution_count": 71,
      "outputs": [
        {
          "output_type": "execute_result",
          "data": {
            "text/plain": [
              "     Item_Identifier  Item_Weight Item_Fat_Content  Item_Visibility  \\\n",
              "8518           FDF22        6.865          Low Fat         0.056783   \n",
              "8519           FDS36        8.380          Regular         0.046982   \n",
              "8520           NCJ29       10.600          Low Fat         0.035186   \n",
              "8521           FDN46        7.210          Regular         0.145221   \n",
              "8522           DRG01       14.800          Low Fat         0.044878   \n",
              "\n",
              "               Item_Type  Item_MRP Outlet_Identifier  \\\n",
              "8518         Snack Foods  214.5218            OUT013   \n",
              "8519        Baking Goods  108.1570            OUT045   \n",
              "8520  Health and Hygiene   85.1224            OUT035   \n",
              "8521         Snack Foods  103.1332            OUT018   \n",
              "8522         Soft Drinks   75.4670            OUT046   \n",
              "\n",
              "      Outlet_Establishment_Year Outlet_Size Outlet_Location_Type  \\\n",
              "8518                       1987        High               Tier 3   \n",
              "8519                       2002         NaN               Tier 2   \n",
              "8520                       2004       Small               Tier 2   \n",
              "8521                       2009      Medium               Tier 3   \n",
              "8522                       1997       Small               Tier 1   \n",
              "\n",
              "            Outlet_Type  Item_Outlet_Sales  \n",
              "8518  Supermarket Type1          2778.3834  \n",
              "8519  Supermarket Type1           549.2850  \n",
              "8520  Supermarket Type1          1193.1136  \n",
              "8521  Supermarket Type2          1845.5976  \n",
              "8522  Supermarket Type1           765.6700  "
            ],
            "text/html": [
              "\n",
              "  <div id=\"df-4de24e2a-a6a5-4efc-b329-d39878123adf\">\n",
              "    <div class=\"colab-df-container\">\n",
              "      <div>\n",
              "<style scoped>\n",
              "    .dataframe tbody tr th:only-of-type {\n",
              "        vertical-align: middle;\n",
              "    }\n",
              "\n",
              "    .dataframe tbody tr th {\n",
              "        vertical-align: top;\n",
              "    }\n",
              "\n",
              "    .dataframe thead th {\n",
              "        text-align: right;\n",
              "    }\n",
              "</style>\n",
              "<table border=\"1\" class=\"dataframe\">\n",
              "  <thead>\n",
              "    <tr style=\"text-align: right;\">\n",
              "      <th></th>\n",
              "      <th>Item_Identifier</th>\n",
              "      <th>Item_Weight</th>\n",
              "      <th>Item_Fat_Content</th>\n",
              "      <th>Item_Visibility</th>\n",
              "      <th>Item_Type</th>\n",
              "      <th>Item_MRP</th>\n",
              "      <th>Outlet_Identifier</th>\n",
              "      <th>Outlet_Establishment_Year</th>\n",
              "      <th>Outlet_Size</th>\n",
              "      <th>Outlet_Location_Type</th>\n",
              "      <th>Outlet_Type</th>\n",
              "      <th>Item_Outlet_Sales</th>\n",
              "    </tr>\n",
              "  </thead>\n",
              "  <tbody>\n",
              "    <tr>\n",
              "      <th>8518</th>\n",
              "      <td>FDF22</td>\n",
              "      <td>6.865</td>\n",
              "      <td>Low Fat</td>\n",
              "      <td>0.056783</td>\n",
              "      <td>Snack Foods</td>\n",
              "      <td>214.5218</td>\n",
              "      <td>OUT013</td>\n",
              "      <td>1987</td>\n",
              "      <td>High</td>\n",
              "      <td>Tier 3</td>\n",
              "      <td>Supermarket Type1</td>\n",
              "      <td>2778.3834</td>\n",
              "    </tr>\n",
              "    <tr>\n",
              "      <th>8519</th>\n",
              "      <td>FDS36</td>\n",
              "      <td>8.380</td>\n",
              "      <td>Regular</td>\n",
              "      <td>0.046982</td>\n",
              "      <td>Baking Goods</td>\n",
              "      <td>108.1570</td>\n",
              "      <td>OUT045</td>\n",
              "      <td>2002</td>\n",
              "      <td>NaN</td>\n",
              "      <td>Tier 2</td>\n",
              "      <td>Supermarket Type1</td>\n",
              "      <td>549.2850</td>\n",
              "    </tr>\n",
              "    <tr>\n",
              "      <th>8520</th>\n",
              "      <td>NCJ29</td>\n",
              "      <td>10.600</td>\n",
              "      <td>Low Fat</td>\n",
              "      <td>0.035186</td>\n",
              "      <td>Health and Hygiene</td>\n",
              "      <td>85.1224</td>\n",
              "      <td>OUT035</td>\n",
              "      <td>2004</td>\n",
              "      <td>Small</td>\n",
              "      <td>Tier 2</td>\n",
              "      <td>Supermarket Type1</td>\n",
              "      <td>1193.1136</td>\n",
              "    </tr>\n",
              "    <tr>\n",
              "      <th>8521</th>\n",
              "      <td>FDN46</td>\n",
              "      <td>7.210</td>\n",
              "      <td>Regular</td>\n",
              "      <td>0.145221</td>\n",
              "      <td>Snack Foods</td>\n",
              "      <td>103.1332</td>\n",
              "      <td>OUT018</td>\n",
              "      <td>2009</td>\n",
              "      <td>Medium</td>\n",
              "      <td>Tier 3</td>\n",
              "      <td>Supermarket Type2</td>\n",
              "      <td>1845.5976</td>\n",
              "    </tr>\n",
              "    <tr>\n",
              "      <th>8522</th>\n",
              "      <td>DRG01</td>\n",
              "      <td>14.800</td>\n",
              "      <td>Low Fat</td>\n",
              "      <td>0.044878</td>\n",
              "      <td>Soft Drinks</td>\n",
              "      <td>75.4670</td>\n",
              "      <td>OUT046</td>\n",
              "      <td>1997</td>\n",
              "      <td>Small</td>\n",
              "      <td>Tier 1</td>\n",
              "      <td>Supermarket Type1</td>\n",
              "      <td>765.6700</td>\n",
              "    </tr>\n",
              "  </tbody>\n",
              "</table>\n",
              "</div>\n",
              "      <button class=\"colab-df-convert\" onclick=\"convertToInteractive('df-4de24e2a-a6a5-4efc-b329-d39878123adf')\"\n",
              "              title=\"Convert this dataframe to an interactive table.\"\n",
              "              style=\"display:none;\">\n",
              "        \n",
              "  <svg xmlns=\"http://www.w3.org/2000/svg\" height=\"24px\"viewBox=\"0 0 24 24\"\n",
              "       width=\"24px\">\n",
              "    <path d=\"M0 0h24v24H0V0z\" fill=\"none\"/>\n",
              "    <path d=\"M18.56 5.44l.94 2.06.94-2.06 2.06-.94-2.06-.94-.94-2.06-.94 2.06-2.06.94zm-11 1L8.5 8.5l.94-2.06 2.06-.94-2.06-.94L8.5 2.5l-.94 2.06-2.06.94zm10 10l.94 2.06.94-2.06 2.06-.94-2.06-.94-.94-2.06-.94 2.06-2.06.94z\"/><path d=\"M17.41 7.96l-1.37-1.37c-.4-.4-.92-.59-1.43-.59-.52 0-1.04.2-1.43.59L10.3 9.45l-7.72 7.72c-.78.78-.78 2.05 0 2.83L4 21.41c.39.39.9.59 1.41.59.51 0 1.02-.2 1.41-.59l7.78-7.78 2.81-2.81c.8-.78.8-2.07 0-2.86zM5.41 20L4 18.59l7.72-7.72 1.47 1.35L5.41 20z\"/>\n",
              "  </svg>\n",
              "      </button>\n",
              "      \n",
              "  <style>\n",
              "    .colab-df-container {\n",
              "      display:flex;\n",
              "      flex-wrap:wrap;\n",
              "      gap: 12px;\n",
              "    }\n",
              "\n",
              "    .colab-df-convert {\n",
              "      background-color: #E8F0FE;\n",
              "      border: none;\n",
              "      border-radius: 50%;\n",
              "      cursor: pointer;\n",
              "      display: none;\n",
              "      fill: #1967D2;\n",
              "      height: 32px;\n",
              "      padding: 0 0 0 0;\n",
              "      width: 32px;\n",
              "    }\n",
              "\n",
              "    .colab-df-convert:hover {\n",
              "      background-color: #E2EBFA;\n",
              "      box-shadow: 0px 1px 2px rgba(60, 64, 67, 0.3), 0px 1px 3px 1px rgba(60, 64, 67, 0.15);\n",
              "      fill: #174EA6;\n",
              "    }\n",
              "\n",
              "    [theme=dark] .colab-df-convert {\n",
              "      background-color: #3B4455;\n",
              "      fill: #D2E3FC;\n",
              "    }\n",
              "\n",
              "    [theme=dark] .colab-df-convert:hover {\n",
              "      background-color: #434B5C;\n",
              "      box-shadow: 0px 1px 3px 1px rgba(0, 0, 0, 0.15);\n",
              "      filter: drop-shadow(0px 1px 2px rgba(0, 0, 0, 0.3));\n",
              "      fill: #FFFFFF;\n",
              "    }\n",
              "  </style>\n",
              "\n",
              "      <script>\n",
              "        const buttonEl =\n",
              "          document.querySelector('#df-4de24e2a-a6a5-4efc-b329-d39878123adf button.colab-df-convert');\n",
              "        buttonEl.style.display =\n",
              "          google.colab.kernel.accessAllowed ? 'block' : 'none';\n",
              "\n",
              "        async function convertToInteractive(key) {\n",
              "          const element = document.querySelector('#df-4de24e2a-a6a5-4efc-b329-d39878123adf');\n",
              "          const dataTable =\n",
              "            await google.colab.kernel.invokeFunction('convertToInteractive',\n",
              "                                                     [key], {});\n",
              "          if (!dataTable) return;\n",
              "\n",
              "          const docLinkHtml = 'Like what you see? Visit the ' +\n",
              "            '<a target=\"_blank\" href=https://colab.research.google.com/notebooks/data_table.ipynb>data table notebook</a>'\n",
              "            + ' to learn more about interactive tables.';\n",
              "          element.innerHTML = '';\n",
              "          dataTable['output_type'] = 'display_data';\n",
              "          await google.colab.output.renderOutput(dataTable, element);\n",
              "          const docLink = document.createElement('div');\n",
              "          docLink.innerHTML = docLinkHtml;\n",
              "          element.appendChild(docLink);\n",
              "        }\n",
              "      </script>\n",
              "    </div>\n",
              "  </div>\n",
              "  "
            ]
          },
          "metadata": {},
          "execution_count": 71
        }
      ]
    },
    {
      "cell_type": "code",
      "source": [
        "sale_data['Item_Fat_Content'].value_counts()"
      ],
      "metadata": {
        "colab": {
          "base_uri": "https://localhost:8080/"
        },
        "id": "JUf6KNkOsJvG",
        "outputId": "ea49ae61-f285-4045-ed51-dbd61a328789"
      },
      "execution_count": 72,
      "outputs": [
        {
          "output_type": "execute_result",
          "data": {
            "text/plain": [
              "Low Fat    5089\n",
              "Regular    2889\n",
              "LF          316\n",
              "reg         117\n",
              "low fat     112\n",
              "Name: Item_Fat_Content, dtype: int64"
            ]
          },
          "metadata": {},
          "execution_count": 72
        }
      ]
    },
    {
      "cell_type": "code",
      "source": [
        "sale_data['Item_Type'].value_counts()"
      ],
      "metadata": {
        "colab": {
          "base_uri": "https://localhost:8080/"
        },
        "id": "I9cMF1hvtiMV",
        "outputId": "f47d5f7d-9013-43cb-8ae0-0f455fa8e25c"
      },
      "execution_count": 73,
      "outputs": [
        {
          "output_type": "execute_result",
          "data": {
            "text/plain": [
              "Fruits and Vegetables    1232\n",
              "Snack Foods              1200\n",
              "Household                 910\n",
              "Frozen Foods              856\n",
              "Dairy                     682\n",
              "Canned                    649\n",
              "Baking Goods              648\n",
              "Health and Hygiene        520\n",
              "Soft Drinks               445\n",
              "Meat                      425\n",
              "Breads                    251\n",
              "Hard Drinks               214\n",
              "Others                    169\n",
              "Starchy Foods             148\n",
              "Breakfast                 110\n",
              "Seafood                    64\n",
              "Name: Item_Type, dtype: int64"
            ]
          },
          "metadata": {},
          "execution_count": 73
        }
      ]
    },
    {
      "cell_type": "code",
      "source": [
        "sale_data['Outlet_Size'].value_counts()"
      ],
      "metadata": {
        "colab": {
          "base_uri": "https://localhost:8080/"
        },
        "id": "TQ0vrpIItuuS",
        "outputId": "7b5cbf7f-dad4-4581-b8af-b6da8461327e"
      },
      "execution_count": 74,
      "outputs": [
        {
          "output_type": "execute_result",
          "data": {
            "text/plain": [
              "Medium    2793\n",
              "Small     2388\n",
              "High       932\n",
              "Name: Outlet_Size, dtype: int64"
            ]
          },
          "metadata": {},
          "execution_count": 74
        }
      ]
    },
    {
      "cell_type": "code",
      "source": [
        "sale_data['Outlet_Location_Type'].value_counts()"
      ],
      "metadata": {
        "colab": {
          "base_uri": "https://localhost:8080/"
        },
        "id": "NfNSWZLzt3GH",
        "outputId": "161c51ed-d720-4200-a218-d23dda402e38"
      },
      "execution_count": 75,
      "outputs": [
        {
          "output_type": "execute_result",
          "data": {
            "text/plain": [
              "Tier 3    3350\n",
              "Tier 2    2785\n",
              "Tier 1    2388\n",
              "Name: Outlet_Location_Type, dtype: int64"
            ]
          },
          "metadata": {},
          "execution_count": 75
        }
      ]
    },
    {
      "cell_type": "code",
      "source": [
        "sale_data['Outlet_Type'].value_counts()"
      ],
      "metadata": {
        "colab": {
          "base_uri": "https://localhost:8080/"
        },
        "id": "9K-bf5brt7x9",
        "outputId": "c40c6e45-1314-4e6a-b5b9-966bc9f9f46c"
      },
      "execution_count": 76,
      "outputs": [
        {
          "output_type": "execute_result",
          "data": {
            "text/plain": [
              "Supermarket Type1    5577\n",
              "Grocery Store        1083\n",
              "Supermarket Type3     935\n",
              "Supermarket Type2     928\n",
              "Name: Outlet_Type, dtype: int64"
            ]
          },
          "metadata": {},
          "execution_count": 76
        }
      ]
    },
    {
      "cell_type": "code",
      "source": [
        "sale_data['Outlet_Identifier'].value_counts()"
      ],
      "metadata": {
        "colab": {
          "base_uri": "https://localhost:8080/"
        },
        "id": "irHwEte2t_UI",
        "outputId": "24346038-1310-49a1-80bc-e764eb53e8bc"
      },
      "execution_count": 77,
      "outputs": [
        {
          "output_type": "execute_result",
          "data": {
            "text/plain": [
              "OUT027    935\n",
              "OUT013    932\n",
              "OUT049    930\n",
              "OUT046    930\n",
              "OUT035    930\n",
              "OUT045    929\n",
              "OUT018    928\n",
              "OUT017    926\n",
              "OUT010    555\n",
              "OUT019    528\n",
              "Name: Outlet_Identifier, dtype: int64"
            ]
          },
          "metadata": {},
          "execution_count": 77
        }
      ]
    },
    {
      "cell_type": "code",
      "source": [
        "sale_data['Item_Identifier'].value_counts()"
      ],
      "metadata": {
        "colab": {
          "base_uri": "https://localhost:8080/"
        },
        "id": "TlbORqg1u7Ne",
        "outputId": "823c1214-42a9-4f31-94b0-3c0b3d92a44e"
      },
      "execution_count": 78,
      "outputs": [
        {
          "output_type": "execute_result",
          "data": {
            "text/plain": [
              "FDW13    10\n",
              "FDG33    10\n",
              "NCY18     9\n",
              "FDD38     9\n",
              "DRE49     9\n",
              "         ..\n",
              "FDY43     1\n",
              "FDQ60     1\n",
              "FDO33     1\n",
              "DRF48     1\n",
              "FDC23     1\n",
              "Name: Item_Identifier, Length: 1559, dtype: int64"
            ]
          },
          "metadata": {},
          "execution_count": 78
        }
      ]
    },
    {
      "cell_type": "markdown",
      "source": [
        "Handling missing values\n",
        "\n",
        "-for numeric value using mean\n",
        "\n",
        "-for text using mode"
      ],
      "metadata": {
        "id": "Jjp8WqWnviTh"
      }
    },
    {
      "cell_type": "code",
      "source": [
        "sale_data['Item_Weight'].mean()"
      ],
      "metadata": {
        "colab": {
          "base_uri": "https://localhost:8080/"
        },
        "id": "9CT3KHjKvA5B",
        "outputId": "735dc9a9-d1eb-4dc1-f64a-22a9dd4f5dd6"
      },
      "execution_count": 79,
      "outputs": [
        {
          "output_type": "execute_result",
          "data": {
            "text/plain": [
              "12.857645184135976"
            ]
          },
          "metadata": {},
          "execution_count": 79
        }
      ]
    },
    {
      "cell_type": "code",
      "source": [
        "\n",
        "#replacing with mean value\n",
        "sale_data['Item_Weight'].fillna(sale_data['Item_Weight'].mean(),inplace=True)"
      ],
      "metadata": {
        "id": "r3PwhG35v55-"
      },
      "execution_count": 80,
      "outputs": []
    },
    {
      "cell_type": "markdown",
      "source": [
        "replacing with mode"
      ],
      "metadata": {
        "id": "izQv9OgTxloB"
      }
    },
    {
      "cell_type": "code",
      "source": [
        "mode_of_outlet_size = sale_data.pivot_table(values='Outlet_Size',columns = 'Outlet_Type',aggfunc = (lambda x:x.mode()[0]))"
      ],
      "metadata": {
        "id": "SqGdE3XJwruO"
      },
      "execution_count": 81,
      "outputs": []
    },
    {
      "cell_type": "code",
      "source": [
        "print(mode_of_outlet_size)"
      ],
      "metadata": {
        "colab": {
          "base_uri": "https://localhost:8080/"
        },
        "id": "NgqideUtyKDV",
        "outputId": "b8b2b790-a24a-4f31-ee8b-e14ecc5dfa2c"
      },
      "execution_count": 82,
      "outputs": [
        {
          "output_type": "stream",
          "name": "stdout",
          "text": [
            "Outlet_Type Grocery Store Supermarket Type1 Supermarket Type2  \\\n",
            "Outlet_Size         Small             Small            Medium   \n",
            "\n",
            "Outlet_Type Supermarket Type3  \n",
            "Outlet_Size            Medium  \n"
          ]
        }
      ]
    },
    {
      "cell_type": "code",
      "source": [
        "missing_values  = sale_data['Outlet_Size'].isnull()"
      ],
      "metadata": {
        "id": "4NpmKHr2yN_O"
      },
      "execution_count": 83,
      "outputs": []
    },
    {
      "cell_type": "code",
      "source": [
        "print(missing_values)"
      ],
      "metadata": {
        "colab": {
          "base_uri": "https://localhost:8080/"
        },
        "id": "vwLK2Wwhh-R0",
        "outputId": "57bffbcf-ea0b-4c9d-e2cf-46021e666c16"
      },
      "execution_count": 84,
      "outputs": [
        {
          "output_type": "stream",
          "name": "stdout",
          "text": [
            "0       False\n",
            "1       False\n",
            "2       False\n",
            "3        True\n",
            "4       False\n",
            "        ...  \n",
            "8518    False\n",
            "8519     True\n",
            "8520    False\n",
            "8521    False\n",
            "8522    False\n",
            "Name: Outlet_Size, Length: 8523, dtype: bool\n"
          ]
        }
      ]
    },
    {
      "cell_type": "code",
      "source": [
        "sale_data.loc[missing_values,'Outlet_Size'] = sale_data.loc[missing_values,'Outlet_Type'].apply(lambda x:mode_of_outlet_size[x])"
      ],
      "metadata": {
        "id": "XTOZ7PrHKeNG"
      },
      "execution_count": 88,
      "outputs": []
    },
    {
      "cell_type": "code",
      "source": [
        "sale_data.isnull().sum()"
      ],
      "metadata": {
        "colab": {
          "base_uri": "https://localhost:8080/"
        },
        "id": "A37j0bbMNiEk",
        "outputId": "135f48be-3b5c-45e4-8738-42b693c54b76"
      },
      "execution_count": 89,
      "outputs": [
        {
          "output_type": "execute_result",
          "data": {
            "text/plain": [
              "Item_Identifier              0\n",
              "Item_Weight                  0\n",
              "Item_Fat_Content             0\n",
              "Item_Visibility              0\n",
              "Item_Type                    0\n",
              "Item_MRP                     0\n",
              "Outlet_Identifier            0\n",
              "Outlet_Establishment_Year    0\n",
              "Outlet_Size                  0\n",
              "Outlet_Location_Type         0\n",
              "Outlet_Type                  0\n",
              "Item_Outlet_Sales            0\n",
              "dtype: int64"
            ]
          },
          "metadata": {},
          "execution_count": 89
        }
      ]
    },
    {
      "cell_type": "code",
      "source": [
        "sale_data.head()"
      ],
      "metadata": {
        "colab": {
          "base_uri": "https://localhost:8080/",
          "height": 357
        },
        "id": "6pqK1Zm1NkaG",
        "outputId": "303c4446-4454-4794-afbd-7531e2d87239"
      },
      "execution_count": 90,
      "outputs": [
        {
          "output_type": "execute_result",
          "data": {
            "text/plain": [
              "  Item_Identifier  Item_Weight Item_Fat_Content  Item_Visibility  \\\n",
              "0           FDA15         9.30          Low Fat         0.016047   \n",
              "1           DRC01         5.92          Regular         0.019278   \n",
              "2           FDN15        17.50          Low Fat         0.016760   \n",
              "3           FDX07        19.20          Regular         0.000000   \n",
              "4           NCD19         8.93          Low Fat         0.000000   \n",
              "\n",
              "               Item_Type  Item_MRP Outlet_Identifier  \\\n",
              "0                  Dairy  249.8092            OUT049   \n",
              "1            Soft Drinks   48.2692            OUT018   \n",
              "2                   Meat  141.6180            OUT049   \n",
              "3  Fruits and Vegetables  182.0950            OUT010   \n",
              "4              Household   53.8614            OUT013   \n",
              "\n",
              "   Outlet_Establishment_Year Outlet_Size Outlet_Location_Type  \\\n",
              "0                       1999      Medium               Tier 1   \n",
              "1                       2009      Medium               Tier 3   \n",
              "2                       1999      Medium               Tier 1   \n",
              "3                       1998       Small               Tier 3   \n",
              "4                       1987        High               Tier 3   \n",
              "\n",
              "         Outlet_Type  Item_Outlet_Sales  \n",
              "0  Supermarket Type1          3735.1380  \n",
              "1  Supermarket Type2           443.4228  \n",
              "2  Supermarket Type1          2097.2700  \n",
              "3      Grocery Store           732.3800  \n",
              "4  Supermarket Type1           994.7052  "
            ],
            "text/html": [
              "\n",
              "  <div id=\"df-db6127a9-d605-48ed-a534-14f6bcb14932\">\n",
              "    <div class=\"colab-df-container\">\n",
              "      <div>\n",
              "<style scoped>\n",
              "    .dataframe tbody tr th:only-of-type {\n",
              "        vertical-align: middle;\n",
              "    }\n",
              "\n",
              "    .dataframe tbody tr th {\n",
              "        vertical-align: top;\n",
              "    }\n",
              "\n",
              "    .dataframe thead th {\n",
              "        text-align: right;\n",
              "    }\n",
              "</style>\n",
              "<table border=\"1\" class=\"dataframe\">\n",
              "  <thead>\n",
              "    <tr style=\"text-align: right;\">\n",
              "      <th></th>\n",
              "      <th>Item_Identifier</th>\n",
              "      <th>Item_Weight</th>\n",
              "      <th>Item_Fat_Content</th>\n",
              "      <th>Item_Visibility</th>\n",
              "      <th>Item_Type</th>\n",
              "      <th>Item_MRP</th>\n",
              "      <th>Outlet_Identifier</th>\n",
              "      <th>Outlet_Establishment_Year</th>\n",
              "      <th>Outlet_Size</th>\n",
              "      <th>Outlet_Location_Type</th>\n",
              "      <th>Outlet_Type</th>\n",
              "      <th>Item_Outlet_Sales</th>\n",
              "    </tr>\n",
              "  </thead>\n",
              "  <tbody>\n",
              "    <tr>\n",
              "      <th>0</th>\n",
              "      <td>FDA15</td>\n",
              "      <td>9.30</td>\n",
              "      <td>Low Fat</td>\n",
              "      <td>0.016047</td>\n",
              "      <td>Dairy</td>\n",
              "      <td>249.8092</td>\n",
              "      <td>OUT049</td>\n",
              "      <td>1999</td>\n",
              "      <td>Medium</td>\n",
              "      <td>Tier 1</td>\n",
              "      <td>Supermarket Type1</td>\n",
              "      <td>3735.1380</td>\n",
              "    </tr>\n",
              "    <tr>\n",
              "      <th>1</th>\n",
              "      <td>DRC01</td>\n",
              "      <td>5.92</td>\n",
              "      <td>Regular</td>\n",
              "      <td>0.019278</td>\n",
              "      <td>Soft Drinks</td>\n",
              "      <td>48.2692</td>\n",
              "      <td>OUT018</td>\n",
              "      <td>2009</td>\n",
              "      <td>Medium</td>\n",
              "      <td>Tier 3</td>\n",
              "      <td>Supermarket Type2</td>\n",
              "      <td>443.4228</td>\n",
              "    </tr>\n",
              "    <tr>\n",
              "      <th>2</th>\n",
              "      <td>FDN15</td>\n",
              "      <td>17.50</td>\n",
              "      <td>Low Fat</td>\n",
              "      <td>0.016760</td>\n",
              "      <td>Meat</td>\n",
              "      <td>141.6180</td>\n",
              "      <td>OUT049</td>\n",
              "      <td>1999</td>\n",
              "      <td>Medium</td>\n",
              "      <td>Tier 1</td>\n",
              "      <td>Supermarket Type1</td>\n",
              "      <td>2097.2700</td>\n",
              "    </tr>\n",
              "    <tr>\n",
              "      <th>3</th>\n",
              "      <td>FDX07</td>\n",
              "      <td>19.20</td>\n",
              "      <td>Regular</td>\n",
              "      <td>0.000000</td>\n",
              "      <td>Fruits and Vegetables</td>\n",
              "      <td>182.0950</td>\n",
              "      <td>OUT010</td>\n",
              "      <td>1998</td>\n",
              "      <td>Small</td>\n",
              "      <td>Tier 3</td>\n",
              "      <td>Grocery Store</td>\n",
              "      <td>732.3800</td>\n",
              "    </tr>\n",
              "    <tr>\n",
              "      <th>4</th>\n",
              "      <td>NCD19</td>\n",
              "      <td>8.93</td>\n",
              "      <td>Low Fat</td>\n",
              "      <td>0.000000</td>\n",
              "      <td>Household</td>\n",
              "      <td>53.8614</td>\n",
              "      <td>OUT013</td>\n",
              "      <td>1987</td>\n",
              "      <td>High</td>\n",
              "      <td>Tier 3</td>\n",
              "      <td>Supermarket Type1</td>\n",
              "      <td>994.7052</td>\n",
              "    </tr>\n",
              "  </tbody>\n",
              "</table>\n",
              "</div>\n",
              "      <button class=\"colab-df-convert\" onclick=\"convertToInteractive('df-db6127a9-d605-48ed-a534-14f6bcb14932')\"\n",
              "              title=\"Convert this dataframe to an interactive table.\"\n",
              "              style=\"display:none;\">\n",
              "        \n",
              "  <svg xmlns=\"http://www.w3.org/2000/svg\" height=\"24px\"viewBox=\"0 0 24 24\"\n",
              "       width=\"24px\">\n",
              "    <path d=\"M0 0h24v24H0V0z\" fill=\"none\"/>\n",
              "    <path d=\"M18.56 5.44l.94 2.06.94-2.06 2.06-.94-2.06-.94-.94-2.06-.94 2.06-2.06.94zm-11 1L8.5 8.5l.94-2.06 2.06-.94-2.06-.94L8.5 2.5l-.94 2.06-2.06.94zm10 10l.94 2.06.94-2.06 2.06-.94-2.06-.94-.94-2.06-.94 2.06-2.06.94z\"/><path d=\"M17.41 7.96l-1.37-1.37c-.4-.4-.92-.59-1.43-.59-.52 0-1.04.2-1.43.59L10.3 9.45l-7.72 7.72c-.78.78-.78 2.05 0 2.83L4 21.41c.39.39.9.59 1.41.59.51 0 1.02-.2 1.41-.59l7.78-7.78 2.81-2.81c.8-.78.8-2.07 0-2.86zM5.41 20L4 18.59l7.72-7.72 1.47 1.35L5.41 20z\"/>\n",
              "  </svg>\n",
              "      </button>\n",
              "      \n",
              "  <style>\n",
              "    .colab-df-container {\n",
              "      display:flex;\n",
              "      flex-wrap:wrap;\n",
              "      gap: 12px;\n",
              "    }\n",
              "\n",
              "    .colab-df-convert {\n",
              "      background-color: #E8F0FE;\n",
              "      border: none;\n",
              "      border-radius: 50%;\n",
              "      cursor: pointer;\n",
              "      display: none;\n",
              "      fill: #1967D2;\n",
              "      height: 32px;\n",
              "      padding: 0 0 0 0;\n",
              "      width: 32px;\n",
              "    }\n",
              "\n",
              "    .colab-df-convert:hover {\n",
              "      background-color: #E2EBFA;\n",
              "      box-shadow: 0px 1px 2px rgba(60, 64, 67, 0.3), 0px 1px 3px 1px rgba(60, 64, 67, 0.15);\n",
              "      fill: #174EA6;\n",
              "    }\n",
              "\n",
              "    [theme=dark] .colab-df-convert {\n",
              "      background-color: #3B4455;\n",
              "      fill: #D2E3FC;\n",
              "    }\n",
              "\n",
              "    [theme=dark] .colab-df-convert:hover {\n",
              "      background-color: #434B5C;\n",
              "      box-shadow: 0px 1px 3px 1px rgba(0, 0, 0, 0.15);\n",
              "      filter: drop-shadow(0px 1px 2px rgba(0, 0, 0, 0.3));\n",
              "      fill: #FFFFFF;\n",
              "    }\n",
              "  </style>\n",
              "\n",
              "      <script>\n",
              "        const buttonEl =\n",
              "          document.querySelector('#df-db6127a9-d605-48ed-a534-14f6bcb14932 button.colab-df-convert');\n",
              "        buttonEl.style.display =\n",
              "          google.colab.kernel.accessAllowed ? 'block' : 'none';\n",
              "\n",
              "        async function convertToInteractive(key) {\n",
              "          const element = document.querySelector('#df-db6127a9-d605-48ed-a534-14f6bcb14932');\n",
              "          const dataTable =\n",
              "            await google.colab.kernel.invokeFunction('convertToInteractive',\n",
              "                                                     [key], {});\n",
              "          if (!dataTable) return;\n",
              "\n",
              "          const docLinkHtml = 'Like what you see? Visit the ' +\n",
              "            '<a target=\"_blank\" href=https://colab.research.google.com/notebooks/data_table.ipynb>data table notebook</a>'\n",
              "            + ' to learn more about interactive tables.';\n",
              "          element.innerHTML = '';\n",
              "          dataTable['output_type'] = 'display_data';\n",
              "          await google.colab.output.renderOutput(dataTable, element);\n",
              "          const docLink = document.createElement('div');\n",
              "          docLink.innerHTML = docLinkHtml;\n",
              "          element.appendChild(docLink);\n",
              "        }\n",
              "      </script>\n",
              "    </div>\n",
              "  </div>\n",
              "  "
            ]
          },
          "metadata": {},
          "execution_count": 90
        }
      ]
    },
    {
      "cell_type": "code",
      "source": [
        "sale_data.tail()"
      ],
      "metadata": {
        "colab": {
          "base_uri": "https://localhost:8080/",
          "height": 357
        },
        "id": "LLmZcuelXPq6",
        "outputId": "dfea199c-11e4-49b4-efb7-12be52e7f69c"
      },
      "execution_count": 91,
      "outputs": [
        {
          "output_type": "execute_result",
          "data": {
            "text/plain": [
              "     Item_Identifier  Item_Weight Item_Fat_Content  Item_Visibility  \\\n",
              "8518           FDF22        6.865          Low Fat         0.056783   \n",
              "8519           FDS36        8.380          Regular         0.046982   \n",
              "8520           NCJ29       10.600          Low Fat         0.035186   \n",
              "8521           FDN46        7.210          Regular         0.145221   \n",
              "8522           DRG01       14.800          Low Fat         0.044878   \n",
              "\n",
              "               Item_Type  Item_MRP Outlet_Identifier  \\\n",
              "8518         Snack Foods  214.5218            OUT013   \n",
              "8519        Baking Goods  108.1570            OUT045   \n",
              "8520  Health and Hygiene   85.1224            OUT035   \n",
              "8521         Snack Foods  103.1332            OUT018   \n",
              "8522         Soft Drinks   75.4670            OUT046   \n",
              "\n",
              "      Outlet_Establishment_Year Outlet_Size Outlet_Location_Type  \\\n",
              "8518                       1987        High               Tier 3   \n",
              "8519                       2002       Small               Tier 2   \n",
              "8520                       2004       Small               Tier 2   \n",
              "8521                       2009      Medium               Tier 3   \n",
              "8522                       1997       Small               Tier 1   \n",
              "\n",
              "            Outlet_Type  Item_Outlet_Sales  \n",
              "8518  Supermarket Type1          2778.3834  \n",
              "8519  Supermarket Type1           549.2850  \n",
              "8520  Supermarket Type1          1193.1136  \n",
              "8521  Supermarket Type2          1845.5976  \n",
              "8522  Supermarket Type1           765.6700  "
            ],
            "text/html": [
              "\n",
              "  <div id=\"df-26ecc23f-5e93-42c3-b710-07c6b66ee6bd\">\n",
              "    <div class=\"colab-df-container\">\n",
              "      <div>\n",
              "<style scoped>\n",
              "    .dataframe tbody tr th:only-of-type {\n",
              "        vertical-align: middle;\n",
              "    }\n",
              "\n",
              "    .dataframe tbody tr th {\n",
              "        vertical-align: top;\n",
              "    }\n",
              "\n",
              "    .dataframe thead th {\n",
              "        text-align: right;\n",
              "    }\n",
              "</style>\n",
              "<table border=\"1\" class=\"dataframe\">\n",
              "  <thead>\n",
              "    <tr style=\"text-align: right;\">\n",
              "      <th></th>\n",
              "      <th>Item_Identifier</th>\n",
              "      <th>Item_Weight</th>\n",
              "      <th>Item_Fat_Content</th>\n",
              "      <th>Item_Visibility</th>\n",
              "      <th>Item_Type</th>\n",
              "      <th>Item_MRP</th>\n",
              "      <th>Outlet_Identifier</th>\n",
              "      <th>Outlet_Establishment_Year</th>\n",
              "      <th>Outlet_Size</th>\n",
              "      <th>Outlet_Location_Type</th>\n",
              "      <th>Outlet_Type</th>\n",
              "      <th>Item_Outlet_Sales</th>\n",
              "    </tr>\n",
              "  </thead>\n",
              "  <tbody>\n",
              "    <tr>\n",
              "      <th>8518</th>\n",
              "      <td>FDF22</td>\n",
              "      <td>6.865</td>\n",
              "      <td>Low Fat</td>\n",
              "      <td>0.056783</td>\n",
              "      <td>Snack Foods</td>\n",
              "      <td>214.5218</td>\n",
              "      <td>OUT013</td>\n",
              "      <td>1987</td>\n",
              "      <td>High</td>\n",
              "      <td>Tier 3</td>\n",
              "      <td>Supermarket Type1</td>\n",
              "      <td>2778.3834</td>\n",
              "    </tr>\n",
              "    <tr>\n",
              "      <th>8519</th>\n",
              "      <td>FDS36</td>\n",
              "      <td>8.380</td>\n",
              "      <td>Regular</td>\n",
              "      <td>0.046982</td>\n",
              "      <td>Baking Goods</td>\n",
              "      <td>108.1570</td>\n",
              "      <td>OUT045</td>\n",
              "      <td>2002</td>\n",
              "      <td>Small</td>\n",
              "      <td>Tier 2</td>\n",
              "      <td>Supermarket Type1</td>\n",
              "      <td>549.2850</td>\n",
              "    </tr>\n",
              "    <tr>\n",
              "      <th>8520</th>\n",
              "      <td>NCJ29</td>\n",
              "      <td>10.600</td>\n",
              "      <td>Low Fat</td>\n",
              "      <td>0.035186</td>\n",
              "      <td>Health and Hygiene</td>\n",
              "      <td>85.1224</td>\n",
              "      <td>OUT035</td>\n",
              "      <td>2004</td>\n",
              "      <td>Small</td>\n",
              "      <td>Tier 2</td>\n",
              "      <td>Supermarket Type1</td>\n",
              "      <td>1193.1136</td>\n",
              "    </tr>\n",
              "    <tr>\n",
              "      <th>8521</th>\n",
              "      <td>FDN46</td>\n",
              "      <td>7.210</td>\n",
              "      <td>Regular</td>\n",
              "      <td>0.145221</td>\n",
              "      <td>Snack Foods</td>\n",
              "      <td>103.1332</td>\n",
              "      <td>OUT018</td>\n",
              "      <td>2009</td>\n",
              "      <td>Medium</td>\n",
              "      <td>Tier 3</td>\n",
              "      <td>Supermarket Type2</td>\n",
              "      <td>1845.5976</td>\n",
              "    </tr>\n",
              "    <tr>\n",
              "      <th>8522</th>\n",
              "      <td>DRG01</td>\n",
              "      <td>14.800</td>\n",
              "      <td>Low Fat</td>\n",
              "      <td>0.044878</td>\n",
              "      <td>Soft Drinks</td>\n",
              "      <td>75.4670</td>\n",
              "      <td>OUT046</td>\n",
              "      <td>1997</td>\n",
              "      <td>Small</td>\n",
              "      <td>Tier 1</td>\n",
              "      <td>Supermarket Type1</td>\n",
              "      <td>765.6700</td>\n",
              "    </tr>\n",
              "  </tbody>\n",
              "</table>\n",
              "</div>\n",
              "      <button class=\"colab-df-convert\" onclick=\"convertToInteractive('df-26ecc23f-5e93-42c3-b710-07c6b66ee6bd')\"\n",
              "              title=\"Convert this dataframe to an interactive table.\"\n",
              "              style=\"display:none;\">\n",
              "        \n",
              "  <svg xmlns=\"http://www.w3.org/2000/svg\" height=\"24px\"viewBox=\"0 0 24 24\"\n",
              "       width=\"24px\">\n",
              "    <path d=\"M0 0h24v24H0V0z\" fill=\"none\"/>\n",
              "    <path d=\"M18.56 5.44l.94 2.06.94-2.06 2.06-.94-2.06-.94-.94-2.06-.94 2.06-2.06.94zm-11 1L8.5 8.5l.94-2.06 2.06-.94-2.06-.94L8.5 2.5l-.94 2.06-2.06.94zm10 10l.94 2.06.94-2.06 2.06-.94-2.06-.94-.94-2.06-.94 2.06-2.06.94z\"/><path d=\"M17.41 7.96l-1.37-1.37c-.4-.4-.92-.59-1.43-.59-.52 0-1.04.2-1.43.59L10.3 9.45l-7.72 7.72c-.78.78-.78 2.05 0 2.83L4 21.41c.39.39.9.59 1.41.59.51 0 1.02-.2 1.41-.59l7.78-7.78 2.81-2.81c.8-.78.8-2.07 0-2.86zM5.41 20L4 18.59l7.72-7.72 1.47 1.35L5.41 20z\"/>\n",
              "  </svg>\n",
              "      </button>\n",
              "      \n",
              "  <style>\n",
              "    .colab-df-container {\n",
              "      display:flex;\n",
              "      flex-wrap:wrap;\n",
              "      gap: 12px;\n",
              "    }\n",
              "\n",
              "    .colab-df-convert {\n",
              "      background-color: #E8F0FE;\n",
              "      border: none;\n",
              "      border-radius: 50%;\n",
              "      cursor: pointer;\n",
              "      display: none;\n",
              "      fill: #1967D2;\n",
              "      height: 32px;\n",
              "      padding: 0 0 0 0;\n",
              "      width: 32px;\n",
              "    }\n",
              "\n",
              "    .colab-df-convert:hover {\n",
              "      background-color: #E2EBFA;\n",
              "      box-shadow: 0px 1px 2px rgba(60, 64, 67, 0.3), 0px 1px 3px 1px rgba(60, 64, 67, 0.15);\n",
              "      fill: #174EA6;\n",
              "    }\n",
              "\n",
              "    [theme=dark] .colab-df-convert {\n",
              "      background-color: #3B4455;\n",
              "      fill: #D2E3FC;\n",
              "    }\n",
              "\n",
              "    [theme=dark] .colab-df-convert:hover {\n",
              "      background-color: #434B5C;\n",
              "      box-shadow: 0px 1px 3px 1px rgba(0, 0, 0, 0.15);\n",
              "      filter: drop-shadow(0px 1px 2px rgba(0, 0, 0, 0.3));\n",
              "      fill: #FFFFFF;\n",
              "    }\n",
              "  </style>\n",
              "\n",
              "      <script>\n",
              "        const buttonEl =\n",
              "          document.querySelector('#df-26ecc23f-5e93-42c3-b710-07c6b66ee6bd button.colab-df-convert');\n",
              "        buttonEl.style.display =\n",
              "          google.colab.kernel.accessAllowed ? 'block' : 'none';\n",
              "\n",
              "        async function convertToInteractive(key) {\n",
              "          const element = document.querySelector('#df-26ecc23f-5e93-42c3-b710-07c6b66ee6bd');\n",
              "          const dataTable =\n",
              "            await google.colab.kernel.invokeFunction('convertToInteractive',\n",
              "                                                     [key], {});\n",
              "          if (!dataTable) return;\n",
              "\n",
              "          const docLinkHtml = 'Like what you see? Visit the ' +\n",
              "            '<a target=\"_blank\" href=https://colab.research.google.com/notebooks/data_table.ipynb>data table notebook</a>'\n",
              "            + ' to learn more about interactive tables.';\n",
              "          element.innerHTML = '';\n",
              "          dataTable['output_type'] = 'display_data';\n",
              "          await google.colab.output.renderOutput(dataTable, element);\n",
              "          const docLink = document.createElement('div');\n",
              "          docLink.innerHTML = docLinkHtml;\n",
              "          element.appendChild(docLink);\n",
              "        }\n",
              "      </script>\n",
              "    </div>\n",
              "  </div>\n",
              "  "
            ]
          },
          "metadata": {},
          "execution_count": 91
        }
      ]
    },
    {
      "cell_type": "markdown",
      "source": [
        "Numerical Distribution"
      ],
      "metadata": {
        "id": "n0UMhF27QHvD"
      }
    },
    {
      "cell_type": "code",
      "source": [
        "sns.set()"
      ],
      "metadata": {
        "id": "ORSBmbbFQPs7"
      },
      "execution_count": 92,
      "outputs": []
    },
    {
      "cell_type": "code",
      "source": [
        "plt.figure(figsize=(6,6))\n",
        "sns.distplot(sale_data['Item_Weight'])\n",
        "plt.title('Weight Distribution')\n",
        "plt.show()"
      ],
      "metadata": {
        "colab": {
          "base_uri": "https://localhost:8080/",
          "height": 465
        },
        "id": "xyESP5EKQHA1",
        "outputId": "bdc62b57-aaae-46f8-8634-a4c25da9ee24"
      },
      "execution_count": 93,
      "outputs": [
        {
          "output_type": "stream",
          "name": "stderr",
          "text": [
            "/usr/local/lib/python3.7/dist-packages/seaborn/distributions.py:2619: FutureWarning: `distplot` is a deprecated function and will be removed in a future version. Please adapt your code to use either `displot` (a figure-level function with similar flexibility) or `histplot` (an axes-level function for histograms).\n",
            "  warnings.warn(msg, FutureWarning)\n"
          ]
        },
        {
          "output_type": "display_data",
          "data": {
            "text/plain": [
              "<Figure size 432x432 with 1 Axes>"
            ],
            "image/png": "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\n"
          },
          "metadata": {}
        }
      ]
    },
    {
      "cell_type": "code",
      "source": [
        "plt.figure(figsize=(6,6))\n",
        "sns.distplot(sale_data['Item_Visibility'])\n",
        "plt.title('Visibility Distribution')\n",
        "plt.show()"
      ],
      "metadata": {
        "colab": {
          "base_uri": "https://localhost:8080/",
          "height": 465
        },
        "id": "z5YLnXuvNsWx",
        "outputId": "de08e167-e95e-4b32-e19e-207541e037ea"
      },
      "execution_count": 94,
      "outputs": [
        {
          "output_type": "stream",
          "name": "stderr",
          "text": [
            "/usr/local/lib/python3.7/dist-packages/seaborn/distributions.py:2619: FutureWarning: `distplot` is a deprecated function and will be removed in a future version. Please adapt your code to use either `displot` (a figure-level function with similar flexibility) or `histplot` (an axes-level function for histograms).\n",
            "  warnings.warn(msg, FutureWarning)\n"
          ]
        },
        {
          "output_type": "display_data",
          "data": {
            "text/plain": [
              "<Figure size 432x432 with 1 Axes>"
            ],
            "image/png": "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\n"
          },
          "metadata": {}
        }
      ]
    },
    {
      "cell_type": "code",
      "source": [
        "plt.figure(figsize=(6,6))\n",
        "sns.distplot(sale_data['Item_MRP'])\n",
        "plt.title('MRP Distribution')\n",
        "plt.show()"
      ],
      "metadata": {
        "colab": {
          "base_uri": "https://localhost:8080/",
          "height": 465
        },
        "id": "sJSwDS77Q17B",
        "outputId": "38a9a723-390a-4ac9-b413-9d8bc1a2e72c"
      },
      "execution_count": 95,
      "outputs": [
        {
          "output_type": "stream",
          "name": "stderr",
          "text": [
            "/usr/local/lib/python3.7/dist-packages/seaborn/distributions.py:2619: FutureWarning: `distplot` is a deprecated function and will be removed in a future version. Please adapt your code to use either `displot` (a figure-level function with similar flexibility) or `histplot` (an axes-level function for histograms).\n",
            "  warnings.warn(msg, FutureWarning)\n"
          ]
        },
        {
          "output_type": "display_data",
          "data": {
            "text/plain": [
              "<Figure size 432x432 with 1 Axes>"
            ],
            "image/png": "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\n"
          },
          "metadata": {}
        }
      ]
    },
    {
      "cell_type": "code",
      "source": [
        "plt.figure(figsize=(6,6))\n",
        "sns.distplot(sale_data['Item_Outlet_Sales'])\n",
        "plt.title('Sales Distribution')\n",
        "plt.show()"
      ],
      "metadata": {
        "colab": {
          "base_uri": "https://localhost:8080/",
          "height": 465
        },
        "id": "FrzwD5S3RBmX",
        "outputId": "fa8b7d7a-9dd5-4302-fd18-15d8631ad089"
      },
      "execution_count": 96,
      "outputs": [
        {
          "output_type": "stream",
          "name": "stderr",
          "text": [
            "/usr/local/lib/python3.7/dist-packages/seaborn/distributions.py:2619: FutureWarning: `distplot` is a deprecated function and will be removed in a future version. Please adapt your code to use either `displot` (a figure-level function with similar flexibility) or `histplot` (an axes-level function for histograms).\n",
            "  warnings.warn(msg, FutureWarning)\n"
          ]
        },
        {
          "output_type": "display_data",
          "data": {
            "text/plain": [
              "<Figure size 432x432 with 1 Axes>"
            ],
            "image/png": "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\n"
          },
          "metadata": {}
        }
      ]
    },
    {
      "cell_type": "code",
      "source": [
        "plt.figure(figsize=(6,6))\n",
        "sns.countplot(x = 'Outlet_Establishment_Year',data = sale_data)\n",
        "plt.title('Establishment Distribution')\n",
        "plt.show()"
      ],
      "metadata": {
        "colab": {
          "base_uri": "https://localhost:8080/",
          "height": 410
        },
        "id": "Hn7tyTzzRTmC",
        "outputId": "184bf9a5-798b-4de6-dedf-94718841fc9e"
      },
      "execution_count": 97,
      "outputs": [
        {
          "output_type": "display_data",
          "data": {
            "text/plain": [
              "<Figure size 432x432 with 1 Axes>"
            ],
            "image/png": "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\n"
          },
          "metadata": {}
        }
      ]
    },
    {
      "cell_type": "code",
      "source": [
        "sale_data.head()"
      ],
      "metadata": {
        "colab": {
          "base_uri": "https://localhost:8080/",
          "height": 357
        },
        "id": "MuXvzak5RmoP",
        "outputId": "50fc176d-709a-4065-dbc6-46531544de95"
      },
      "execution_count": 98,
      "outputs": [
        {
          "output_type": "execute_result",
          "data": {
            "text/plain": [
              "  Item_Identifier  Item_Weight Item_Fat_Content  Item_Visibility  \\\n",
              "0           FDA15         9.30          Low Fat         0.016047   \n",
              "1           DRC01         5.92          Regular         0.019278   \n",
              "2           FDN15        17.50          Low Fat         0.016760   \n",
              "3           FDX07        19.20          Regular         0.000000   \n",
              "4           NCD19         8.93          Low Fat         0.000000   \n",
              "\n",
              "               Item_Type  Item_MRP Outlet_Identifier  \\\n",
              "0                  Dairy  249.8092            OUT049   \n",
              "1            Soft Drinks   48.2692            OUT018   \n",
              "2                   Meat  141.6180            OUT049   \n",
              "3  Fruits and Vegetables  182.0950            OUT010   \n",
              "4              Household   53.8614            OUT013   \n",
              "\n",
              "   Outlet_Establishment_Year Outlet_Size Outlet_Location_Type  \\\n",
              "0                       1999      Medium               Tier 1   \n",
              "1                       2009      Medium               Tier 3   \n",
              "2                       1999      Medium               Tier 1   \n",
              "3                       1998       Small               Tier 3   \n",
              "4                       1987        High               Tier 3   \n",
              "\n",
              "         Outlet_Type  Item_Outlet_Sales  \n",
              "0  Supermarket Type1          3735.1380  \n",
              "1  Supermarket Type2           443.4228  \n",
              "2  Supermarket Type1          2097.2700  \n",
              "3      Grocery Store           732.3800  \n",
              "4  Supermarket Type1           994.7052  "
            ],
            "text/html": [
              "\n",
              "  <div id=\"df-37b3086b-2df3-4c56-814c-4b3fdf97a67d\">\n",
              "    <div class=\"colab-df-container\">\n",
              "      <div>\n",
              "<style scoped>\n",
              "    .dataframe tbody tr th:only-of-type {\n",
              "        vertical-align: middle;\n",
              "    }\n",
              "\n",
              "    .dataframe tbody tr th {\n",
              "        vertical-align: top;\n",
              "    }\n",
              "\n",
              "    .dataframe thead th {\n",
              "        text-align: right;\n",
              "    }\n",
              "</style>\n",
              "<table border=\"1\" class=\"dataframe\">\n",
              "  <thead>\n",
              "    <tr style=\"text-align: right;\">\n",
              "      <th></th>\n",
              "      <th>Item_Identifier</th>\n",
              "      <th>Item_Weight</th>\n",
              "      <th>Item_Fat_Content</th>\n",
              "      <th>Item_Visibility</th>\n",
              "      <th>Item_Type</th>\n",
              "      <th>Item_MRP</th>\n",
              "      <th>Outlet_Identifier</th>\n",
              "      <th>Outlet_Establishment_Year</th>\n",
              "      <th>Outlet_Size</th>\n",
              "      <th>Outlet_Location_Type</th>\n",
              "      <th>Outlet_Type</th>\n",
              "      <th>Item_Outlet_Sales</th>\n",
              "    </tr>\n",
              "  </thead>\n",
              "  <tbody>\n",
              "    <tr>\n",
              "      <th>0</th>\n",
              "      <td>FDA15</td>\n",
              "      <td>9.30</td>\n",
              "      <td>Low Fat</td>\n",
              "      <td>0.016047</td>\n",
              "      <td>Dairy</td>\n",
              "      <td>249.8092</td>\n",
              "      <td>OUT049</td>\n",
              "      <td>1999</td>\n",
              "      <td>Medium</td>\n",
              "      <td>Tier 1</td>\n",
              "      <td>Supermarket Type1</td>\n",
              "      <td>3735.1380</td>\n",
              "    </tr>\n",
              "    <tr>\n",
              "      <th>1</th>\n",
              "      <td>DRC01</td>\n",
              "      <td>5.92</td>\n",
              "      <td>Regular</td>\n",
              "      <td>0.019278</td>\n",
              "      <td>Soft Drinks</td>\n",
              "      <td>48.2692</td>\n",
              "      <td>OUT018</td>\n",
              "      <td>2009</td>\n",
              "      <td>Medium</td>\n",
              "      <td>Tier 3</td>\n",
              "      <td>Supermarket Type2</td>\n",
              "      <td>443.4228</td>\n",
              "    </tr>\n",
              "    <tr>\n",
              "      <th>2</th>\n",
              "      <td>FDN15</td>\n",
              "      <td>17.50</td>\n",
              "      <td>Low Fat</td>\n",
              "      <td>0.016760</td>\n",
              "      <td>Meat</td>\n",
              "      <td>141.6180</td>\n",
              "      <td>OUT049</td>\n",
              "      <td>1999</td>\n",
              "      <td>Medium</td>\n",
              "      <td>Tier 1</td>\n",
              "      <td>Supermarket Type1</td>\n",
              "      <td>2097.2700</td>\n",
              "    </tr>\n",
              "    <tr>\n",
              "      <th>3</th>\n",
              "      <td>FDX07</td>\n",
              "      <td>19.20</td>\n",
              "      <td>Regular</td>\n",
              "      <td>0.000000</td>\n",
              "      <td>Fruits and Vegetables</td>\n",
              "      <td>182.0950</td>\n",
              "      <td>OUT010</td>\n",
              "      <td>1998</td>\n",
              "      <td>Small</td>\n",
              "      <td>Tier 3</td>\n",
              "      <td>Grocery Store</td>\n",
              "      <td>732.3800</td>\n",
              "    </tr>\n",
              "    <tr>\n",
              "      <th>4</th>\n",
              "      <td>NCD19</td>\n",
              "      <td>8.93</td>\n",
              "      <td>Low Fat</td>\n",
              "      <td>0.000000</td>\n",
              "      <td>Household</td>\n",
              "      <td>53.8614</td>\n",
              "      <td>OUT013</td>\n",
              "      <td>1987</td>\n",
              "      <td>High</td>\n",
              "      <td>Tier 3</td>\n",
              "      <td>Supermarket Type1</td>\n",
              "      <td>994.7052</td>\n",
              "    </tr>\n",
              "  </tbody>\n",
              "</table>\n",
              "</div>\n",
              "      <button class=\"colab-df-convert\" onclick=\"convertToInteractive('df-37b3086b-2df3-4c56-814c-4b3fdf97a67d')\"\n",
              "              title=\"Convert this dataframe to an interactive table.\"\n",
              "              style=\"display:none;\">\n",
              "        \n",
              "  <svg xmlns=\"http://www.w3.org/2000/svg\" height=\"24px\"viewBox=\"0 0 24 24\"\n",
              "       width=\"24px\">\n",
              "    <path d=\"M0 0h24v24H0V0z\" fill=\"none\"/>\n",
              "    <path d=\"M18.56 5.44l.94 2.06.94-2.06 2.06-.94-2.06-.94-.94-2.06-.94 2.06-2.06.94zm-11 1L8.5 8.5l.94-2.06 2.06-.94-2.06-.94L8.5 2.5l-.94 2.06-2.06.94zm10 10l.94 2.06.94-2.06 2.06-.94-2.06-.94-.94-2.06-.94 2.06-2.06.94z\"/><path d=\"M17.41 7.96l-1.37-1.37c-.4-.4-.92-.59-1.43-.59-.52 0-1.04.2-1.43.59L10.3 9.45l-7.72 7.72c-.78.78-.78 2.05 0 2.83L4 21.41c.39.39.9.59 1.41.59.51 0 1.02-.2 1.41-.59l7.78-7.78 2.81-2.81c.8-.78.8-2.07 0-2.86zM5.41 20L4 18.59l7.72-7.72 1.47 1.35L5.41 20z\"/>\n",
              "  </svg>\n",
              "      </button>\n",
              "      \n",
              "  <style>\n",
              "    .colab-df-container {\n",
              "      display:flex;\n",
              "      flex-wrap:wrap;\n",
              "      gap: 12px;\n",
              "    }\n",
              "\n",
              "    .colab-df-convert {\n",
              "      background-color: #E8F0FE;\n",
              "      border: none;\n",
              "      border-radius: 50%;\n",
              "      cursor: pointer;\n",
              "      display: none;\n",
              "      fill: #1967D2;\n",
              "      height: 32px;\n",
              "      padding: 0 0 0 0;\n",
              "      width: 32px;\n",
              "    }\n",
              "\n",
              "    .colab-df-convert:hover {\n",
              "      background-color: #E2EBFA;\n",
              "      box-shadow: 0px 1px 2px rgba(60, 64, 67, 0.3), 0px 1px 3px 1px rgba(60, 64, 67, 0.15);\n",
              "      fill: #174EA6;\n",
              "    }\n",
              "\n",
              "    [theme=dark] .colab-df-convert {\n",
              "      background-color: #3B4455;\n",
              "      fill: #D2E3FC;\n",
              "    }\n",
              "\n",
              "    [theme=dark] .colab-df-convert:hover {\n",
              "      background-color: #434B5C;\n",
              "      box-shadow: 0px 1px 3px 1px rgba(0, 0, 0, 0.15);\n",
              "      filter: drop-shadow(0px 1px 2px rgba(0, 0, 0, 0.3));\n",
              "      fill: #FFFFFF;\n",
              "    }\n",
              "  </style>\n",
              "\n",
              "      <script>\n",
              "        const buttonEl =\n",
              "          document.querySelector('#df-37b3086b-2df3-4c56-814c-4b3fdf97a67d button.colab-df-convert');\n",
              "        buttonEl.style.display =\n",
              "          google.colab.kernel.accessAllowed ? 'block' : 'none';\n",
              "\n",
              "        async function convertToInteractive(key) {\n",
              "          const element = document.querySelector('#df-37b3086b-2df3-4c56-814c-4b3fdf97a67d');\n",
              "          const dataTable =\n",
              "            await google.colab.kernel.invokeFunction('convertToInteractive',\n",
              "                                                     [key], {});\n",
              "          if (!dataTable) return;\n",
              "\n",
              "          const docLinkHtml = 'Like what you see? Visit the ' +\n",
              "            '<a target=\"_blank\" href=https://colab.research.google.com/notebooks/data_table.ipynb>data table notebook</a>'\n",
              "            + ' to learn more about interactive tables.';\n",
              "          element.innerHTML = '';\n",
              "          dataTable['output_type'] = 'display_data';\n",
              "          await google.colab.output.renderOutput(dataTable, element);\n",
              "          const docLink = document.createElement('div');\n",
              "          docLink.innerHTML = docLinkHtml;\n",
              "          element.appendChild(docLink);\n",
              "        }\n",
              "      </script>\n",
              "    </div>\n",
              "  </div>\n",
              "  "
            ]
          },
          "metadata": {},
          "execution_count": 98
        }
      ]
    },
    {
      "cell_type": "code",
      "source": [
        "sale_data['Item_Type'].value_counts()"
      ],
      "metadata": {
        "colab": {
          "base_uri": "https://localhost:8080/"
        },
        "id": "eVhzbPh8Skbi",
        "outputId": "120f1b8c-e26a-4316-c53a-bcc34e52bfda"
      },
      "execution_count": 99,
      "outputs": [
        {
          "output_type": "execute_result",
          "data": {
            "text/plain": [
              "Fruits and Vegetables    1232\n",
              "Snack Foods              1200\n",
              "Household                 910\n",
              "Frozen Foods              856\n",
              "Dairy                     682\n",
              "Canned                    649\n",
              "Baking Goods              648\n",
              "Health and Hygiene        520\n",
              "Soft Drinks               445\n",
              "Meat                      425\n",
              "Breads                    251\n",
              "Hard Drinks               214\n",
              "Others                    169\n",
              "Starchy Foods             148\n",
              "Breakfast                 110\n",
              "Seafood                    64\n",
              "Name: Item_Type, dtype: int64"
            ]
          },
          "metadata": {},
          "execution_count": 99
        }
      ]
    },
    {
      "cell_type": "code",
      "source": [
        "\n",
        "sale_data.replace({'Item_Fat_Content':{'Low Fat':0,'Regular':1,'LF':0,'low fat':0,'reg':1}},inplace=True)"
      ],
      "metadata": {
        "id": "uQI4eWkjSC6F"
      },
      "execution_count": 100,
      "outputs": []
    },
    {
      "cell_type": "code",
      "source": [
        "sale_data['Item_Fat_Content'].value_counts()"
      ],
      "metadata": {
        "colab": {
          "base_uri": "https://localhost:8080/"
        },
        "id": "8EfQ88wrUh5N",
        "outputId": "5736fa10-4f14-4fe6-a598-c1d74e11b5d2"
      },
      "execution_count": 101,
      "outputs": [
        {
          "output_type": "execute_result",
          "data": {
            "text/plain": [
              "0    5517\n",
              "1    3006\n",
              "Name: Item_Fat_Content, dtype: int64"
            ]
          },
          "metadata": {},
          "execution_count": 101
        }
      ]
    },
    {
      "cell_type": "code",
      "source": [
        "encoder = LabelEncoder()"
      ],
      "metadata": {
        "id": "Q2qfsSTwUnQf"
      },
      "execution_count": 102,
      "outputs": []
    },
    {
      "cell_type": "code",
      "source": [
        "sale_data['Item_Identifier'] = encoder.fit_transform(sale_data['Item_Identifier'])\n",
        "sale_data['Item_Type'] = encoder.fit_transform(sale_data['Item_Type'])\n",
        "sale_data['Outlet_Identifier'] = encoder.fit_transform(sale_data['Outlet_Identifier'])\n",
        "\n",
        "sale_data['Outlet_Size'] = encoder.fit_transform(sale_data['Outlet_Size'])\n",
        "sale_data['Outlet_Location_Type'] = encoder.fit_transform(sale_data['Outlet_Location_Type'])\n",
        "sale_data['Outlet_Type'] = encoder.fit_transform(sale_data['Outlet_Type'])"
      ],
      "metadata": {
        "id": "1huD8ecUUsEY"
      },
      "execution_count": 117,
      "outputs": []
    },
    {
      "cell_type": "code",
      "source": [
        "sale_data.head()"
      ],
      "metadata": {
        "colab": {
          "base_uri": "https://localhost:8080/",
          "height": 270
        },
        "id": "d-fbCeRcVndf",
        "outputId": "e444fd0b-950d-4e74-fd4c-fcfa91068185"
      },
      "execution_count": 118,
      "outputs": [
        {
          "output_type": "execute_result",
          "data": {
            "text/plain": [
              "   Item_Identifier  Item_Weight  Item_Fat_Content  Item_Visibility  Item_Type  \\\n",
              "0              156         9.30                 0         0.016047          4   \n",
              "1                8         5.92                 1         0.019278         14   \n",
              "2              662        17.50                 0         0.016760         10   \n",
              "3             1121        19.20                 1         0.000000          6   \n",
              "4             1297         8.93                 0         0.000000          9   \n",
              "\n",
              "   Item_MRP  Outlet_Identifier  Outlet_Establishment_Year  Outlet_Size  \\\n",
              "0  249.8092                  9                          4            1   \n",
              "1   48.2692                  3                          8            1   \n",
              "2  141.6180                  9                          4            1   \n",
              "3  182.0950                  0                          3            2   \n",
              "4   53.8614                  1                          1            0   \n",
              "\n",
              "   Outlet_Location_Type  Outlet_Type  Item_Outlet_Sales  \n",
              "0                     0            1          3735.1380  \n",
              "1                     2            2           443.4228  \n",
              "2                     0            1          2097.2700  \n",
              "3                     2            0           732.3800  \n",
              "4                     2            1           994.7052  "
            ],
            "text/html": [
              "\n",
              "  <div id=\"df-40726413-c0cb-46d2-a9d9-c80c12697793\">\n",
              "    <div class=\"colab-df-container\">\n",
              "      <div>\n",
              "<style scoped>\n",
              "    .dataframe tbody tr th:only-of-type {\n",
              "        vertical-align: middle;\n",
              "    }\n",
              "\n",
              "    .dataframe tbody tr th {\n",
              "        vertical-align: top;\n",
              "    }\n",
              "\n",
              "    .dataframe thead th {\n",
              "        text-align: right;\n",
              "    }\n",
              "</style>\n",
              "<table border=\"1\" class=\"dataframe\">\n",
              "  <thead>\n",
              "    <tr style=\"text-align: right;\">\n",
              "      <th></th>\n",
              "      <th>Item_Identifier</th>\n",
              "      <th>Item_Weight</th>\n",
              "      <th>Item_Fat_Content</th>\n",
              "      <th>Item_Visibility</th>\n",
              "      <th>Item_Type</th>\n",
              "      <th>Item_MRP</th>\n",
              "      <th>Outlet_Identifier</th>\n",
              "      <th>Outlet_Establishment_Year</th>\n",
              "      <th>Outlet_Size</th>\n",
              "      <th>Outlet_Location_Type</th>\n",
              "      <th>Outlet_Type</th>\n",
              "      <th>Item_Outlet_Sales</th>\n",
              "    </tr>\n",
              "  </thead>\n",
              "  <tbody>\n",
              "    <tr>\n",
              "      <th>0</th>\n",
              "      <td>156</td>\n",
              "      <td>9.30</td>\n",
              "      <td>0</td>\n",
              "      <td>0.016047</td>\n",
              "      <td>4</td>\n",
              "      <td>249.8092</td>\n",
              "      <td>9</td>\n",
              "      <td>4</td>\n",
              "      <td>1</td>\n",
              "      <td>0</td>\n",
              "      <td>1</td>\n",
              "      <td>3735.1380</td>\n",
              "    </tr>\n",
              "    <tr>\n",
              "      <th>1</th>\n",
              "      <td>8</td>\n",
              "      <td>5.92</td>\n",
              "      <td>1</td>\n",
              "      <td>0.019278</td>\n",
              "      <td>14</td>\n",
              "      <td>48.2692</td>\n",
              "      <td>3</td>\n",
              "      <td>8</td>\n",
              "      <td>1</td>\n",
              "      <td>2</td>\n",
              "      <td>2</td>\n",
              "      <td>443.4228</td>\n",
              "    </tr>\n",
              "    <tr>\n",
              "      <th>2</th>\n",
              "      <td>662</td>\n",
              "      <td>17.50</td>\n",
              "      <td>0</td>\n",
              "      <td>0.016760</td>\n",
              "      <td>10</td>\n",
              "      <td>141.6180</td>\n",
              "      <td>9</td>\n",
              "      <td>4</td>\n",
              "      <td>1</td>\n",
              "      <td>0</td>\n",
              "      <td>1</td>\n",
              "      <td>2097.2700</td>\n",
              "    </tr>\n",
              "    <tr>\n",
              "      <th>3</th>\n",
              "      <td>1121</td>\n",
              "      <td>19.20</td>\n",
              "      <td>1</td>\n",
              "      <td>0.000000</td>\n",
              "      <td>6</td>\n",
              "      <td>182.0950</td>\n",
              "      <td>0</td>\n",
              "      <td>3</td>\n",
              "      <td>2</td>\n",
              "      <td>2</td>\n",
              "      <td>0</td>\n",
              "      <td>732.3800</td>\n",
              "    </tr>\n",
              "    <tr>\n",
              "      <th>4</th>\n",
              "      <td>1297</td>\n",
              "      <td>8.93</td>\n",
              "      <td>0</td>\n",
              "      <td>0.000000</td>\n",
              "      <td>9</td>\n",
              "      <td>53.8614</td>\n",
              "      <td>1</td>\n",
              "      <td>1</td>\n",
              "      <td>0</td>\n",
              "      <td>2</td>\n",
              "      <td>1</td>\n",
              "      <td>994.7052</td>\n",
              "    </tr>\n",
              "  </tbody>\n",
              "</table>\n",
              "</div>\n",
              "      <button class=\"colab-df-convert\" onclick=\"convertToInteractive('df-40726413-c0cb-46d2-a9d9-c80c12697793')\"\n",
              "              title=\"Convert this dataframe to an interactive table.\"\n",
              "              style=\"display:none;\">\n",
              "        \n",
              "  <svg xmlns=\"http://www.w3.org/2000/svg\" height=\"24px\"viewBox=\"0 0 24 24\"\n",
              "       width=\"24px\">\n",
              "    <path d=\"M0 0h24v24H0V0z\" fill=\"none\"/>\n",
              "    <path d=\"M18.56 5.44l.94 2.06.94-2.06 2.06-.94-2.06-.94-.94-2.06-.94 2.06-2.06.94zm-11 1L8.5 8.5l.94-2.06 2.06-.94-2.06-.94L8.5 2.5l-.94 2.06-2.06.94zm10 10l.94 2.06.94-2.06 2.06-.94-2.06-.94-.94-2.06-.94 2.06-2.06.94z\"/><path d=\"M17.41 7.96l-1.37-1.37c-.4-.4-.92-.59-1.43-.59-.52 0-1.04.2-1.43.59L10.3 9.45l-7.72 7.72c-.78.78-.78 2.05 0 2.83L4 21.41c.39.39.9.59 1.41.59.51 0 1.02-.2 1.41-.59l7.78-7.78 2.81-2.81c.8-.78.8-2.07 0-2.86zM5.41 20L4 18.59l7.72-7.72 1.47 1.35L5.41 20z\"/>\n",
              "  </svg>\n",
              "      </button>\n",
              "      \n",
              "  <style>\n",
              "    .colab-df-container {\n",
              "      display:flex;\n",
              "      flex-wrap:wrap;\n",
              "      gap: 12px;\n",
              "    }\n",
              "\n",
              "    .colab-df-convert {\n",
              "      background-color: #E8F0FE;\n",
              "      border: none;\n",
              "      border-radius: 50%;\n",
              "      cursor: pointer;\n",
              "      display: none;\n",
              "      fill: #1967D2;\n",
              "      height: 32px;\n",
              "      padding: 0 0 0 0;\n",
              "      width: 32px;\n",
              "    }\n",
              "\n",
              "    .colab-df-convert:hover {\n",
              "      background-color: #E2EBFA;\n",
              "      box-shadow: 0px 1px 2px rgba(60, 64, 67, 0.3), 0px 1px 3px 1px rgba(60, 64, 67, 0.15);\n",
              "      fill: #174EA6;\n",
              "    }\n",
              "\n",
              "    [theme=dark] .colab-df-convert {\n",
              "      background-color: #3B4455;\n",
              "      fill: #D2E3FC;\n",
              "    }\n",
              "\n",
              "    [theme=dark] .colab-df-convert:hover {\n",
              "      background-color: #434B5C;\n",
              "      box-shadow: 0px 1px 3px 1px rgba(0, 0, 0, 0.15);\n",
              "      filter: drop-shadow(0px 1px 2px rgba(0, 0, 0, 0.3));\n",
              "      fill: #FFFFFF;\n",
              "    }\n",
              "  </style>\n",
              "\n",
              "      <script>\n",
              "        const buttonEl =\n",
              "          document.querySelector('#df-40726413-c0cb-46d2-a9d9-c80c12697793 button.colab-df-convert');\n",
              "        buttonEl.style.display =\n",
              "          google.colab.kernel.accessAllowed ? 'block' : 'none';\n",
              "\n",
              "        async function convertToInteractive(key) {\n",
              "          const element = document.querySelector('#df-40726413-c0cb-46d2-a9d9-c80c12697793');\n",
              "          const dataTable =\n",
              "            await google.colab.kernel.invokeFunction('convertToInteractive',\n",
              "                                                     [key], {});\n",
              "          if (!dataTable) return;\n",
              "\n",
              "          const docLinkHtml = 'Like what you see? Visit the ' +\n",
              "            '<a target=\"_blank\" href=https://colab.research.google.com/notebooks/data_table.ipynb>data table notebook</a>'\n",
              "            + ' to learn more about interactive tables.';\n",
              "          element.innerHTML = '';\n",
              "          dataTable['output_type'] = 'display_data';\n",
              "          await google.colab.output.renderOutput(dataTable, element);\n",
              "          const docLink = document.createElement('div');\n",
              "          docLink.innerHTML = docLinkHtml;\n",
              "          element.appendChild(docLink);\n",
              "        }\n",
              "      </script>\n",
              "    </div>\n",
              "  </div>\n",
              "  "
            ]
          },
          "metadata": {},
          "execution_count": 118
        }
      ]
    },
    {
      "cell_type": "code",
      "source": [
        "X = sale_data.drop(columns='Item_Outlet_Sales',axis=1)\n",
        "Y = sale_data['Item_Outlet_Sales']"
      ],
      "metadata": {
        "id": "nhxBEuQdY0RA"
      },
      "execution_count": 106,
      "outputs": []
    },
    {
      "cell_type": "code",
      "source": [
        "print(X)\n",
        "print(Y)"
      ],
      "metadata": {
        "colab": {
          "base_uri": "https://localhost:8080/"
        },
        "id": "kFuYSPeYhbaf",
        "outputId": "a2f979fb-415f-43ac-d249-31f4b6be94d8"
      },
      "execution_count": 107,
      "outputs": [
        {
          "output_type": "stream",
          "name": "stdout",
          "text": [
            "      Item_Identifier  Item_Weight  Item_Fat_Content  Item_Visibility  \\\n",
            "0                 156        9.300                 0         0.016047   \n",
            "1                   8        5.920                 1         0.019278   \n",
            "2                 662       17.500                 0         0.016760   \n",
            "3                1121       19.200                 1         0.000000   \n",
            "4                1297        8.930                 0         0.000000   \n",
            "...               ...          ...               ...              ...   \n",
            "8518              370        6.865                 0         0.056783   \n",
            "8519              897        8.380                 1         0.046982   \n",
            "8520             1357       10.600                 0         0.035186   \n",
            "8521              681        7.210                 1         0.145221   \n",
            "8522               50       14.800                 0         0.044878   \n",
            "\n",
            "      Item_Type  Item_MRP  Outlet_Identifier  Outlet_Establishment_Year  \\\n",
            "0             4  249.8092                  9                          4   \n",
            "1            14   48.2692                  3                          8   \n",
            "2            10  141.6180                  9                          4   \n",
            "3             6  182.0950                  0                          3   \n",
            "4             9   53.8614                  1                          1   \n",
            "...         ...       ...                ...                        ...   \n",
            "8518         13  214.5218                  1                          1   \n",
            "8519          0  108.1570                  7                          5   \n",
            "8520          8   85.1224                  6                          6   \n",
            "8521         13  103.1332                  3                          8   \n",
            "8522         14   75.4670                  8                          2   \n",
            "\n",
            "      Outlet_Size  Outlet_Location_Type  Outlet_Type  \n",
            "0               1                     0            1  \n",
            "1               1                     2            2  \n",
            "2               1                     0            1  \n",
            "3               2                     2            0  \n",
            "4               0                     2            1  \n",
            "...           ...                   ...          ...  \n",
            "8518            0                     2            1  \n",
            "8519            2                     1            1  \n",
            "8520            2                     1            1  \n",
            "8521            1                     2            2  \n",
            "8522            2                     0            1  \n",
            "\n",
            "[8523 rows x 11 columns]\n",
            "0       3735.1380\n",
            "1        443.4228\n",
            "2       2097.2700\n",
            "3        732.3800\n",
            "4        994.7052\n",
            "          ...    \n",
            "8518    2778.3834\n",
            "8519     549.2850\n",
            "8520    1193.1136\n",
            "8521    1845.5976\n",
            "8522     765.6700\n",
            "Name: Item_Outlet_Sales, Length: 8523, dtype: float64\n"
          ]
        }
      ]
    },
    {
      "cell_type": "code",
      "source": [
        "X_train,X_test,Y_train,Y_test = train_test_split(X,Y,test_size=0.2,random_state=2)"
      ],
      "metadata": {
        "id": "ypzwpa6Phjup"
      },
      "execution_count": 108,
      "outputs": []
    },
    {
      "cell_type": "code",
      "source": [
        "print(X.shape,X_train.shape,X_test.shape)"
      ],
      "metadata": {
        "colab": {
          "base_uri": "https://localhost:8080/"
        },
        "id": "ohobHy1thun-",
        "outputId": "dea0d71f-bd41-4b1e-cb61-18b566befabd"
      },
      "execution_count": 109,
      "outputs": [
        {
          "output_type": "stream",
          "name": "stdout",
          "text": [
            "(8523, 11) (6818, 11) (1705, 11)\n"
          ]
        }
      ]
    },
    {
      "cell_type": "code",
      "source": [
        "model = XGBRegressor()\n",
        "model.fit(X_train,Y_train)"
      ],
      "metadata": {
        "colab": {
          "base_uri": "https://localhost:8080/"
        },
        "id": "tEPs9Ue8hzz0",
        "outputId": "1e21f3cf-ee95-4245-ffd5-dbc2e49807db"
      },
      "execution_count": 110,
      "outputs": [
        {
          "output_type": "stream",
          "name": "stdout",
          "text": [
            "[09:00:21] WARNING: /workspace/src/objective/regression_obj.cu:152: reg:linear is now deprecated in favor of reg:squarederror.\n"
          ]
        },
        {
          "output_type": "execute_result",
          "data": {
            "text/plain": [
              "XGBRegressor()"
            ]
          },
          "metadata": {},
          "execution_count": 110
        }
      ]
    },
    {
      "cell_type": "code",
      "source": [
        "training_data_prediction = model.predict(X_train)\n",
        "error_score = metrics.r2_score(Y_train,training_data_prediction)\n",
        "print(error_score)"
      ],
      "metadata": {
        "colab": {
          "base_uri": "https://localhost:8080/"
        },
        "id": "GdVOWIjvh9Pb",
        "outputId": "81dedf2b-e586-4506-e8b6-d963c65de758"
      },
      "execution_count": 111,
      "outputs": [
        {
          "output_type": "stream",
          "name": "stdout",
          "text": [
            "0.6364457030941357\n"
          ]
        }
      ]
    },
    {
      "cell_type": "code",
      "source": [
        "test_data_prediction = model.predict(X_test)\n",
        "error_score = metrics.r2_score(Y_test,test_data_prediction)\n",
        "print(error_score)"
      ],
      "metadata": {
        "colab": {
          "base_uri": "https://localhost:8080/"
        },
        "id": "6dYVdO7OiRT2",
        "outputId": "1e447678-1afb-420e-a8d1-1d7167c11526"
      },
      "execution_count": 112,
      "outputs": [
        {
          "output_type": "stream",
          "name": "stdout",
          "text": [
            "0.5867640914432671\n"
          ]
        }
      ]
    },
    {
      "cell_type": "code",
      "source": [
        "plt.scatter(Y_train,training_data_prediction)"
      ],
      "metadata": {
        "colab": {
          "base_uri": "https://localhost:8080/",
          "height": 285
        },
        "id": "APOZvcIJiZ6U",
        "outputId": "d14e8ee3-3538-4de7-ba76-2234e1aa656c"
      },
      "execution_count": 113,
      "outputs": [
        {
          "output_type": "execute_result",
          "data": {
            "text/plain": [
              "<matplotlib.collections.PathCollection at 0x7ff144d59b10>"
            ]
          },
          "metadata": {},
          "execution_count": 113
        },
        {
          "output_type": "display_data",
          "data": {
            "text/plain": [
              "<Figure size 432x288 with 1 Axes>"
            ],
            "image/png": "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\n"
          },
          "metadata": {}
        }
      ]
    },
    {
      "cell_type": "code",
      "source": [
        "plt.scatter(Y_test,test_data_prediction)"
      ],
      "metadata": {
        "colab": {
          "base_uri": "https://localhost:8080/",
          "height": 285
        },
        "id": "p2dmrC37inZg",
        "outputId": "def2d174-e3ef-4b14-f2e5-d5c7a2dd0215"
      },
      "execution_count": 114,
      "outputs": [
        {
          "output_type": "execute_result",
          "data": {
            "text/plain": [
              "<matplotlib.collections.PathCollection at 0x7ff144d59c10>"
            ]
          },
          "metadata": {},
          "execution_count": 114
        },
        {
          "output_type": "display_data",
          "data": {
            "text/plain": [
              "<Figure size 432x288 with 1 Axes>"
            ],
            "image/png": "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\n"
          },
          "metadata": {}
        }
      ]
    },
    {
      "cell_type": "code",
      "source": [
        "input_data = (156     ,   9.300,                 0,         0.016047,    4  ,249.8092,                  9,                          4,    1,                     0,            1)\n",
        "input_data_as_numpy_array = np.asarray(input_data)\n",
        "input_data_reshaped = input_data_as_numpy_array.reshape(1,-1)\n",
        "prediction = model.predict(input_data_reshaped)\n",
        "print(prediction)"
      ],
      "metadata": {
        "colab": {
          "base_uri": "https://localhost:8080/",
          "height": 710
        },
        "id": "xqaBO4kNitmL",
        "outputId": "94a235e1-ef51-4828-83d5-d84f84a23ddc"
      },
      "execution_count": 116,
      "outputs": [
        
    },
    {
      "cell_type": "code",
      "source": [],
      "metadata": {
        "id": "pxMSJuB3lWCT"
      },
      "execution_count": null,
      "outputs": []
    }
  ]
}
